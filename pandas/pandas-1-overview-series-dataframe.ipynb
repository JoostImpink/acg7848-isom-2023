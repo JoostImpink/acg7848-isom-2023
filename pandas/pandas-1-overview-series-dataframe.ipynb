{
 "cells": [
  {
   "cell_type": "markdown",
   "metadata": {},
   "source": [
    "# Pandas Overview\n",
    "\n",
    "## Topics\n",
    "Introduction<br>\n",
    "Data Structures<br>\n",
    "- Series\n",
    "- DataFrame\n",
    "\n",
    "\n",
    "## Introduction\n",
    "Pandas is an open-source Python Library providing high-performance data manipulation and analysis tool using its powerful data structures.<br>\n",
    "Pandas lets you clean your data before analysing it. “Cleaning” your data, often called “data wrangling” or “data munging”, \n",
    "is a process of removing erroneous data from your dataset prior to processing it (dealing with missing values, binning, dealing with categorial data, etc) and drawing any insights from it. <br> \n",
    "Using Pandas, we can accomplish five typical steps in the processing and analysis of data, regardless of the origin of data — load, prepare, manipulate, model, and analyse. <br>\n",
    "\n",
    "### Key Features of Pandas:\n",
    "1. Fast and efficient DataFrame object with default and customised indexing.<br>\n",
    "2. Tools for loading data into in-memory data objects from different file formats.<br>\n",
    "3. Data alignment and integrated handling of missing data.<br>\n",
    "4. Reshaping and pivoting of date sets. <br>\n",
    "5. Label-based slicing, indexing and subsetting of large data sets.<br>\n",
    "6. Columns from a data structure can be deleted or inserted.<br>\n",
    "7. Group by data for aggregation and transformations.<br>\n",
    "8. High performance merging and joining of data.<br>\n",
    "\n",
    "## Introduction to Data Structures:\n",
    "\n",
    "Pandas the following main data structures:\n",
    "- Series<br>\n",
    "- DataFrame<br>\n",
    "\n",
    "The best way to think of these data structures is that the higher dimensional data structure (DataFrame) is a container of its lower dimensional data structure (Series). <br>\n",
    "All Pandas data structures are value mutable (can be changed) and DataFrame is size mutable (Series is size immutable)."
   ]
  },
  {
   "cell_type": "markdown",
   "metadata": {},
   "source": [
    "### Series\n",
    "\n",
    "Series is a one-dimensional array like structure with homogeneous data.<br>\n",
    "\n",
    "For example, the following series is a collection of integers 10, 23, 56, 17, 52, 61, 73, 90, 26, 72.<br>\n",
    "\n",
    "Key Points:<br>\n",
    "- Homogeneous data (each value has the same type)\n",
    "- Data is mutable (values can be changed)\n",
    "- Size immutable (not possible to add/remove values)\n",
    "\n",
    "__Syntax:__  pandas.Series(data, index, dtype, name, copy)\n",
    "\n",
    "where:\n",
    "    \n",
    "- data contains the data; this can be in Series, or lists, or dictionary (or even a scalar)\n",
    "- index (optional), if provided, a label, if not provided by default a counter (0, 1, ...); if the data is a dictionary then the keys in the data are used as the index\n",
    "- dtype (data type), optional, if not provided it is inferred\n",
    "- name (optional), if provided, the Series will be named\n",
    "- copy; advanced setting, see documentation [https://pandas.pydata.org/docs/reference/api/pandas.Series.html](https://pandas.pydata.org/docs/reference/api/pandas.Series.html)\n",
    "\n",
    "__Returns:__ A Series\n",
    "\n",
    "#### Create a Series from ndarray<br>\n",
    "If data is an ndarray, then index passed must be of the same length. If no index is passed, then by default index will be range(n) where n is array length, i.e., [0,1,2,3…. range(len(array))-1].\n"
   ]
  },
  {
   "cell_type": "code",
   "execution_count": null,
   "metadata": {},
   "outputs": [],
   "source": [
    "#import pandas and numpy\n",
    "import pandas as pd\n",
    "import numpy as np\n",
    "data = np.array(['a','b','c','d'])\n",
    "print('type data:', type(data))\n",
    "s = pd.Series(data)\n",
    "print('s:', s)"
   ]
  },
  {
   "cell_type": "code",
   "execution_count": null,
   "metadata": {},
   "outputs": [],
   "source": [
    "s = pd.Series(data,index=[100,101,102,103])\n",
    "print(s)"
   ]
  },
  {
   "cell_type": "markdown",
   "metadata": {},
   "source": [
    "#### Create a Series from dict<br>\n",
    "A dict can be passed as input and if no index is specified, then the dictionary keys are taken in a sorted order to construct index. If index is passed, the values in data corresponding to the labels in the index will be pulled out.<br>"
   ]
  },
  {
   "cell_type": "code",
   "execution_count": null,
   "metadata": {},
   "outputs": [],
   "source": [
    "data = {'a' : 0.0, 'b' : 1.0, 'c' : 2.0}\n",
    "s = pd.Series(data)\n",
    "print(s)"
   ]
  },
  {
   "cell_type": "code",
   "execution_count": null,
   "metadata": {},
   "outputs": [],
   "source": [
    "s = pd.Series(data,index=['b','c','d','a'])\n",
    "print(s)"
   ]
  },
  {
   "cell_type": "markdown",
   "metadata": {},
   "source": [
    "#### Create a Series from Scalar\n",
    "If data is a scalar value, an index must be provided. The value will be repeated to match the length of index<br>"
   ]
  },
  {
   "cell_type": "code",
   "execution_count": null,
   "metadata": {},
   "outputs": [],
   "source": [
    "s = pd.Series(5, index=[0, 1, 2, 3])\n",
    "print(s)"
   ]
  },
  {
   "cell_type": "markdown",
   "metadata": {},
   "source": [
    "#### Accessing Data from Series with Position\n",
    "Data in the series can be accessed similar to that in ndarray."
   ]
  },
  {
   "cell_type": "code",
   "execution_count": null,
   "metadata": {},
   "outputs": [],
   "source": [
    "s = pd.Series([1,2,3,4,5],index = ['a','b','c','d','e'])\n",
    "#retrieve the element with index 2 (third element)\n",
    "print('s[2]:', s[2])"
   ]
  },
  {
   "cell_type": "code",
   "execution_count": null,
   "metadata": {},
   "outputs": [],
   "source": [
    "#retrieve the first two elements (position zero and one)\n",
    "print(s[0:2])"
   ]
  },
  {
   "cell_type": "code",
   "execution_count": null,
   "metadata": {},
   "outputs": [],
   "source": [
    "#retrieve the last three element\n",
    "print(s[-3:])"
   ]
  },
  {
   "cell_type": "markdown",
   "metadata": {},
   "source": [
    "#### Retrieve Data Using Index\n",
    "A Series is like a fixed-size dict in that you can get and set values by index label.<br>\n",
    "\n",
    "> Note: 'label' is a named value of the index "
   ]
  },
  {
   "cell_type": "code",
   "execution_count": null,
   "metadata": {},
   "outputs": [],
   "source": [
    "s = pd.Series([1,2,3,4,5],index = ['a','b','c','d','e'])\n",
    "#retrieve a single element\n",
    "print(s['a'])"
   ]
  },
  {
   "cell_type": "code",
   "execution_count": null,
   "metadata": {},
   "outputs": [],
   "source": [
    "#retrieve multiple elements\n",
    "print(s[['a','c','d']])"
   ]
  },
  {
   "cell_type": "markdown",
   "metadata": {},
   "source": [
    "### DataFrame\n",
    "\n",
    "DataFrame is a two-dimensional array with heterogeneous data, where the structure is like a spreadsheet (each variable in a column). <br> \n",
    "\n",
    "Key Points:<br>\n",
    "- Heterogeneous data\n",
    "- Size Mutable\n",
    "- Data Mutable\n",
    "\n",
    "A pandas DataFrame can be created using the following constructor:\n",
    "    \n",
    "__Syntax:__  pandas.DataFrame( data, index, columns, dtype, copy)\n",
    "\n",
    "where:\n",
    "    \n",
    "- data contains the data; this can be in Series, or lists, or dictionary (or even a scalar)\n",
    "- index (optional), if provided, a label, if not provided by default a counter (0, 1, ...); if the data is a dictionary then the keys in the data are used as the index\n",
    "- columns: column labels if the data does not have them\n",
    "- dtype (data type), optional, if not provided it is inferred\n",
    "- copy; advanced setting, see documentation [https://pandas.pydata.org/docs/reference/api/pandas.DataFrame.html](https://pandas.pydata.org/docs/reference/api/pandas.DataFrame.html)\n",
    "\n",
    "__Returns:__ A DataFrame\n",
    "    \n",
    "In DataFrames, there are two types of indices. There is an index to access each variable (passed when creating the DataFrame), and another index to access the elements (the label). \n"
   ]
  },
  {
   "cell_type": "markdown",
   "metadata": {},
   "source": [
    "#### Create an Empty DataFrame\n",
    "A basic DataFrame, which can be created is an Empty Dataframe.<br>"
   ]
  },
  {
   "cell_type": "code",
   "execution_count": null,
   "metadata": {},
   "outputs": [],
   "source": [
    "df = pd.DataFrame()\n",
    "print(df)"
   ]
  },
  {
   "cell_type": "markdown",
   "metadata": {},
   "source": [
    "To create a Pandas DataFrame, you can pass in a variety of data structures, such as:\n",
    "\n",
    "1. A NumPy array, with optional row and column labels\n",
    "2. A list of lists, with optional row and column labels\n",
    "3. A dictionary of lists, with optional row labels\n",
    "4. A list of dictionaries, with optional row labels\n",
    "5. A dictionary of dictionaries, with optional row labels\n",
    "\n",
    "source: chat at openai.com"
   ]
  },
  {
   "cell_type": "code",
   "execution_count": null,
   "metadata": {},
   "outputs": [],
   "source": [
    "# Example 1: Create a DataFrame from a NumPy array, with row and column labels\n",
    "data = np.array([[1, 2, 3], [4, 5, 6]])\n",
    "df = pd.DataFrame(data, columns=['a', 'b', 'c'], index=['row1', 'row2'])\n",
    "print('example 1\\n', df)"
   ]
  },
  {
   "cell_type": "code",
   "execution_count": null,
   "metadata": {},
   "outputs": [],
   "source": [
    "# Example 2: Create a DataFrame from a list of lists, with row and column labels\n",
    "data = [[1, 2, 3], [4, 5, 6]]\n",
    "df = pd.DataFrame(data, columns=['a', 'b', 'c'], index=['row1', 'row2'])\n",
    "print('\\nexample 2\\n', df)"
   ]
  },
  {
   "cell_type": "code",
   "execution_count": null,
   "metadata": {},
   "outputs": [],
   "source": [
    "# Example 3: Create a DataFrame from a dictionary of lists, with row labels\n",
    "data = {'a': [1, 4], 'b': [2, 5], 'c': [3, 6]}\n",
    "df = pd.DataFrame(data, index=['row1', 'row2'])\n",
    "print('\\nexample 3\\n', df)"
   ]
  },
  {
   "cell_type": "code",
   "execution_count": null,
   "metadata": {},
   "outputs": [],
   "source": [
    "# Example 4: Create a DataFrame from a list of dictionaries, with row labels\n",
    "data = [{'a': 1, 'b': 2, 'c': 3}, {'a': 4, 'b': 5, 'c': 6}]\n",
    "df = pd.DataFrame(data, index=['row1', 'row2'])\n",
    "print('\\nexample 4\\n',df)"
   ]
  },
  {
   "cell_type": "code",
   "execution_count": null,
   "metadata": {},
   "outputs": [],
   "source": [
    "# Example 5: Create a DataFrame from a dictionary of dictionaries, with row labels\n",
    "# 'rows' here are actually the column names\n",
    "data = {'row1': {'a': 1, 'b': 2, 'c': 3}, 'row2': {'a': 4, 'b': 5, 'c': 6}}\n",
    "df = pd.DataFrame(data)\n",
    "print('\\nexample 5\\n', df)"
   ]
  },
  {
   "cell_type": "markdown",
   "metadata": {},
   "source": [
    "#### Create a DataFrame from Lists\n",
    "The DataFrame can be created using a single list or a list of lists.<br>\n",
    "\n"
   ]
  },
  {
   "cell_type": "code",
   "execution_count": null,
   "metadata": {},
   "outputs": [],
   "source": [
    "data = [['Amanda',10],['Billy',12],['Claire',13]]\n",
    "df = pd.DataFrame(data,columns=['Name','Age'],dtype=float)\n",
    "print(df)"
   ]
  },
  {
   "cell_type": "markdown",
   "metadata": {},
   "source": [
    "### A few more examples"
   ]
  },
  {
   "cell_type": "markdown",
   "metadata": {},
   "source": [
    "#### Create a DataFrame from Dict of ndarrays / Lists\n",
    "All the ndarrays must be of same length. If index is passed, then the length of the index should equal to the length of the arrays.<br>\n",
    "If no index is passed, then by default, index will be range(n), where n is the array length.<br>"
   ]
  },
  {
   "cell_type": "code",
   "execution_count": null,
   "metadata": {},
   "outputs": [],
   "source": [
    "# 'Name' and 'Age' are indices for accessing the variables/columns\n",
    "# no index is passed (for accessing the rows), so by default the index is 0, 1, ...\n",
    "data = {'Name':['Tasha', 'Jack', 'Steve', 'Rishi'],'Age':[28,34,29,42]}\n",
    "df = pd.DataFrame(data)\n",
    "print(df)"
   ]
  },
  {
   "cell_type": "markdown",
   "metadata": {},
   "source": [
    "#### Create a DataFrame from List of Dicts\n",
    "List of Dictionaries can be passed as input data to create a DataFrame. The dictionary keys are by default taken as column names.<br>"
   ]
  },
  {
   "cell_type": "code",
   "execution_count": null,
   "metadata": {},
   "outputs": [],
   "source": [
    "# data is a list of dictionaries; each element is a dictionary with key-value pairs,\n",
    "# where the key is the variable (column) name\n",
    "# no index is passed (for accessing the rows), so by default the index is 0, 1, ...\n",
    "data = [{'a': 1, 'b': 2},{'a': 5, 'b': 10, 'c': 20}]\n",
    "df = pd.DataFrame(data)\n",
    "print(df)"
   ]
  },
  {
   "cell_type": "code",
   "execution_count": null,
   "metadata": {},
   "outputs": [],
   "source": [
    "# index is specified, so rows can be selected with 'first' and 'second' (in addition to [0] and [1])\n",
    "data = [{'a': 1, 'b': 2}, {'a': 5, 'b': 10, 'c': 20}]\n",
    "# With two column indices, values same as dictionary keys\n",
    "df1 = pd.DataFrame(data, index=['first', 'second'], columns=['a', 'b'])\n",
    "# With two column indices with one index with other name\n",
    "# it will look up values for keys a and b1; so b is ignored; \n",
    "# since b1 is missing the values for this variabel are NaNs\n",
    "df2 = pd.DataFrame(data, index=['first', 'second'], columns=['a', 'b1'])\n",
    "print('df1\\n',df1)\n",
    "print('\\ndf2\\n',df2)"
   ]
  },
  {
   "cell_type": "markdown",
   "metadata": {},
   "source": [
    "#### Create a DataFrame from Dict of Series\n",
    "Dictionary of Series can be passed to form a DataFrame. <br> "
   ]
  },
  {
   "cell_type": "code",
   "execution_count": null,
   "metadata": {},
   "outputs": [],
   "source": [
    "# the row indices are specified as part of the series\n",
    "d = {'one' : pd.Series([1, 2, 3], index=['a', 'b', 'c']), 'two' : pd.Series([1, 2, 3, 4], index=['a', 'b', 'c', 'd'])}\n",
    "df = pd.DataFrame(d)\n",
    "print(df)"
   ]
  },
  {
   "cell_type": "markdown",
   "metadata": {},
   "source": [
    "## Column selection, adding and deleting columns \n",
    "\n",
    "### Selecting a column"
   ]
  },
  {
   "cell_type": "code",
   "execution_count": null,
   "metadata": {},
   "outputs": [],
   "source": [
    "d = {'one' : pd.Series([1, 2, 3], index=['a', 'b', 'c']),'two' : pd.Series([1, 2, 3, 4], index=['a', 'b', 'c', 'd'])}\n",
    "df = pd.DataFrame(d)\n",
    "print(df ['one'])"
   ]
  },
  {
   "cell_type": "code",
   "execution_count": null,
   "metadata": {},
   "outputs": [],
   "source": [
    "# selecting multiple columns\n",
    "selected_columns = df[ ['one', 'two'] ]\n",
    "print(selected_columns)"
   ]
  },
  {
   "cell_type": "markdown",
   "metadata": {},
   "source": [
    "### Creating (adding) a new column "
   ]
  },
  {
   "cell_type": "code",
   "execution_count": null,
   "metadata": {},
   "outputs": [],
   "source": [
    "d = {'one' : pd.Series([1, 2, 3], index=['a', 'b', 'c']),'two' : pd.Series([1, 2, 3, 4], index=['a', 'b', 'c', 'd'])}\n",
    "df = pd.DataFrame(d)\n",
    "\n",
    "# Adding a new column to an existing DataFrame object with column label by passing new series\n",
    "print (\"Adding a new column by passing as Series:\")\n",
    "df['three']=pd.Series([10,20,30],index=['a','b','c'])\n",
    "print(df)\n",
    "\n",
    "print (\"\\nAdding a new column using the existing columns in DataFrame:\")\n",
    "df['four']=df['one']+df['three']\n",
    "print(df)"
   ]
  },
  {
   "cell_type": "markdown",
   "metadata": {},
   "source": [
    "### Deleting a column "
   ]
  },
  {
   "cell_type": "code",
   "execution_count": null,
   "metadata": {},
   "outputs": [],
   "source": [
    "# Using the previous DataFrame, we will delete a column\n",
    "# using del function\n",
    "d = {'one' : pd.Series([1, 2, 3], index=['a', 'b', 'c']), \n",
    "   'two' : pd.Series([1, 2, 3, 4], index=['a', 'b', 'c', 'd']), \n",
    "   'three' : pd.Series([10,20,30], index=['a','b','c'])}\n",
    "df = pd.DataFrame(d)\n",
    "print (\"Our dataframe is:\")\n",
    "print (df)\n",
    "# using del function\n",
    "print (\"Deleting the first column using DEL function:\")\n",
    "del df['one']\n",
    "print (df)\n",
    "# using pop function\n",
    "print (\"Deleting another column using POP function:\")\n",
    "# the pop function will return the removed column\n",
    "colRm = df.pop('two')\n",
    "print (df)\n",
    "print('\\nRemoved column\\n', colRm)"
   ]
  },
  {
   "cell_type": "markdown",
   "metadata": {},
   "source": [
    "## Row selection, addition and deletion\n",
    "\n",
    "### Selecting rows\n",
    "\n",
    "Use functions `index`, `loc`, `iloc` and filtering to select rows;  see [pandas-loc.ipynb](pandas-loc.ipynb)\n",
    "\n",
    "### Adding rows \n",
    "\n",
    "Use the `concat` function to add rows; see [pandas-6-merging-joining.ipynb](pandas-6-merging-joining.ipynb)"
   ]
  },
  {
   "cell_type": "markdown",
   "metadata": {},
   "source": [
    "### Deleting a row\n",
    "\n",
    "Use index label to delete or drop rows from a DataFrame. If label is duplicated, then multiple rows will be dropped.<br>"
   ]
  },
  {
   "cell_type": "code",
   "execution_count": null,
   "metadata": {},
   "outputs": [],
   "source": [
    "df"
   ]
  },
  {
   "cell_type": "code",
   "execution_count": null,
   "metadata": {},
   "outputs": [],
   "source": [
    "# Drop rows with label 0\n",
    "df = df.drop(0)\n",
    "print(df)"
   ]
  },
  {
   "cell_type": "markdown",
   "metadata": {},
   "source": [
    "## Panel data and multilevel indices\n",
    "\n",
    "Pandas used to have another data structure called `Panel`. This has been replaced with 'multi-index', also called multi-level index or hierarchical index.\n",
    "This allows you to have multiple columns acting as a row identifier.\n",
    "\n",
    "If you have:\n",
    "    \n",
    "- a cross section of one variable (for example, a list of ages of the students in this section): you can use a Series, or a DataFrame (with one variable)\n",
    "- a timeseries of one variable (for example, quarterly GDP for the US): you can use a Series, or a DataFrame (with one variable)\n",
    "- a cross section of multiple variables (for example, a list of ages of the students in this class, one for each time the class is offered): you can use a DataFrame\n",
    "- a timeseries of multiple variables (for example, state production (GSP), nontax income and tax income for each of the 51 States): you can use a DataFrame (one column for each variable)\n",
    "- paneldate: a cross section with values for multiple periods (for example, tax income for each of the 51 States for several years): you can use a DataFrame with multi-index (one index to identify the State, another index to identify the quarter)\n",
    "    \n",
    "    \n"
   ]
  },
  {
   "cell_type": "code",
   "execution_count": null,
   "metadata": {},
   "outputs": [],
   "source": []
  }
 ],
 "metadata": {
  "kernelspec": {
   "display_name": "Python 3",
   "language": "python",
   "name": "python3"
  },
  "language_info": {
   "codemirror_mode": {
    "name": "ipython",
    "version": 3
   },
   "file_extension": ".py",
   "mimetype": "text/x-python",
   "name": "python",
   "nbconvert_exporter": "python",
   "pygments_lexer": "ipython3",
   "version": "3.8.8"
  },
  "vscode": {
   "interpreter": {
    "hash": "cd78fef2128015050713e82ca51c6520b11aee7c9ee8df750520bbbc7384cbaa"
   }
  }
 },
 "nbformat": 4,
 "nbformat_minor": 2
}
