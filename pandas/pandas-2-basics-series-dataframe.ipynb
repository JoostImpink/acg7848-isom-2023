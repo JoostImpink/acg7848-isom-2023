{
 "cells": [
  {
   "cell_type": "markdown",
   "metadata": {},
   "source": [
    "# Pandas - Basics \n",
    "\n",
    "## Basic Series Functionality\n",
    "\n",
    "Main functions for Series:\n",
    "\n",
    "- axes: Returns a list of the row axis labels\n",
    "\n",
    "- dtype: Returns the dtype of the object.\n",
    "\n",
    "- empty: Returns True if series is empty.\n",
    "\n",
    "- ndim: Returns the number of dimensions of the underlying data, by definition 1 for Series.\n",
    "\n",
    "- size: Returns the number of elements in the underlying data.\n",
    "\n",
    "- values: Returns the Series as ndarray.\n",
    "\n",
    "- head(): Returns the first n rows.\n",
    "\n",
    "- tail(): Returns the last n rows."
   ]
  },
  {
   "cell_type": "code",
   "execution_count": null,
   "metadata": {},
   "outputs": [],
   "source": [
    "import pandas as pd\n",
    "import numpy as np\n",
    "\n",
    "# Create a series with 10 random numbers\n",
    "s = pd.Series(np.random.randn(10))\n",
    "print(s)"
   ]
  },
  {
   "cell_type": "code",
   "execution_count": null,
   "metadata": {},
   "outputs": [],
   "source": [
    "# print the axes (a list containing the labels of the row axes)\n",
    "print (\"The axes are:\", s.axes)"
   ]
  },
  {
   "cell_type": "code",
   "execution_count": null,
   "metadata": {},
   "outputs": [],
   "source": [
    "# returns a Boolean value whether the object is empty or not. True indicates that the object is empty.\n",
    "print (\"Is the object empty?\", s.empty)"
   ]
  },
  {
   "cell_type": "code",
   "execution_count": null,
   "metadata": {},
   "outputs": [],
   "source": [
    "#Returns the number of dimensions of the object. By definition, a Series is a 1D data structure, so it returns 1\n",
    "print (\"The dimensions of the object:\", s.ndim)"
   ]
  },
  {
   "cell_type": "code",
   "execution_count": null,
   "metadata": {},
   "outputs": [],
   "source": [
    "# Returns the size (length) of the series\n",
    "print (\"The size of the object:\", s.size)"
   ]
  },
  {
   "cell_type": "code",
   "execution_count": null,
   "metadata": {},
   "outputs": [],
   "source": [
    "# returns the actual data in the series as an array.\n",
    "print (\"The actual data series is:\", s.values)"
   ]
  },
  {
   "cell_type": "code",
   "execution_count": null,
   "metadata": {},
   "outputs": [],
   "source": [
    "# head() returns the first n rows\n",
    "print(\"The first two rows of the data series:\\n\", s.head(2) )\n",
    "print(\"The last two rows of the data series:\\n\", s.tail(2))"
   ]
  },
  {
   "cell_type": "markdown",
   "metadata": {},
   "source": [
    "## Basic DataFrame Functionality\n",
    "\n",
    "- T: Transposes rows and columns.\n",
    "\n",
    "- axes: Returns a list with the row axis labels and column axis labels as the only members.\n",
    "\n",
    "- dtypes: Returns the dtypes in this object.\n",
    "\n",
    "- empty: True if the DataFrame is entirely empty [no items]; if any of the axes are of length 0.\n",
    "\n",
    "- ndim: Number of axes / array dimensions.\n",
    "\n",
    "- shape: Returns a tuple representing the dimensionality of the DataFrame.\n",
    "\n",
    "- size: Number of elements in the DataFrame.\n",
    "\n",
    "- values: Numpy representation of DataFrame.\n",
    "\n",
    "- head(): Returns the first n rows.\n",
    "\n",
    "- tail(): Returns last n rows."
   ]
  },
  {
   "cell_type": "code",
   "execution_count": null,
   "metadata": {},
   "outputs": [],
   "source": [
    "# create DataFrame using Series\n",
    "d = {'Name':pd.Series(['Tom','James','Ricky','Vin','Steve','Smith','Jack']),\n",
    "   'Age':pd.Series([25,26,25,23,30,29,23]),\n",
    "   'Rating':pd.Series([4.23,3.24,3.98,2.56,3.20,4.6,3.8])}\n",
    "\n",
    "# create it\n",
    "df = pd.DataFrame(d)\n",
    "print (\"Our DataFrame:\\n\", df)"
   ]
  },
  {
   "cell_type": "code",
   "execution_count": null,
   "metadata": {},
   "outputs": [],
   "source": [
    "# transpose\n",
    "print (\"The transpose of the data series is:\\n\", df.T)"
   ]
  },
  {
   "cell_type": "markdown",
   "metadata": {},
   "source": [
    "### Axes\n",
    "\n",
    "Note: axis=0 stands for rows and axis=1 stands for columns"
   ]
  },
  {
   "cell_type": "code",
   "execution_count": null,
   "metadata": {},
   "outputs": [],
   "source": [
    "# axes\n",
    "print (\"Row axis labels and column axis labels are:\\n\", df.axes)"
   ]
  },
  {
   "cell_type": "code",
   "execution_count": null,
   "metadata": {},
   "outputs": [],
   "source": [
    "# dtypes\n",
    "print (\"The data types of each column are:\\n\", df.dtypes)"
   ]
  },
  {
   "cell_type": "code",
   "execution_count": null,
   "metadata": {},
   "outputs": [],
   "source": [
    "# empty\n",
    "print (\"Is the object empty?\", df.empty)"
   ]
  },
  {
   "cell_type": "code",
   "execution_count": null,
   "metadata": {},
   "outputs": [],
   "source": [
    "# ndim\n",
    "print (\"The dimension of the object is:\", df.ndim)"
   ]
  },
  {
   "cell_type": "code",
   "execution_count": null,
   "metadata": {},
   "outputs": [],
   "source": [
    "# shape\n",
    "print (\"The shape of the object is:\", df.shape)"
   ]
  },
  {
   "cell_type": "code",
   "execution_count": null,
   "metadata": {},
   "outputs": [],
   "source": [
    "# size \n",
    "print (\"The total number of elements in our object is:\", df.size)"
   ]
  },
  {
   "cell_type": "code",
   "execution_count": null,
   "metadata": {},
   "outputs": [],
   "source": [
    "# values\n",
    "print (\"The actual data in our data frame:\\n\", df.values)"
   ]
  },
  {
   "cell_type": "code",
   "execution_count": null,
   "metadata": {},
   "outputs": [],
   "source": [
    "# head\n",
    "print (\"The first two rows of the data frame:\\n\", df.head(2))"
   ]
  },
  {
   "cell_type": "code",
   "execution_count": null,
   "metadata": {},
   "outputs": [],
   "source": [
    "# tail\n",
    "print (\"The last two rows of the data frame:\\n\", df.tail(2))"
   ]
  }
 ],
 "metadata": {
  "kernelspec": {
   "display_name": "Python 3",
   "language": "python",
   "name": "python3"
  },
  "language_info": {
   "codemirror_mode": {
    "name": "ipython",
    "version": 3
   },
   "file_extension": ".py",
   "mimetype": "text/x-python",
   "name": "python",
   "nbconvert_exporter": "python",
   "pygments_lexer": "ipython3",
   "version": "3.8.8"
  },
  "vscode": {
   "interpreter": {
    "hash": "cd78fef2128015050713e82ca51c6520b11aee7c9ee8df750520bbbc7384cbaa"
   }
  }
 },
 "nbformat": 4,
 "nbformat_minor": 2
}
