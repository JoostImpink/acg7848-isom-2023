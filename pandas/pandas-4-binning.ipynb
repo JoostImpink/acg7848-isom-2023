{
 "cells": [
  {
   "cell_type": "markdown",
   "metadata": {},
   "source": [
    "# Binning\n",
    "\n",
    "Binning is a process of transforming continuous numerical variables into discrete categorical 'bins' (or 'buckets'). There are two main functions in pandas to do this:\n",
    "\n",
    "- cut(): creates equal sized buckets (same widths), but number of observations in each bin may vary\n",
    "- qcut(): equal number of observations in each bin, but the bin widths may vary"
   ]
  },
  {
   "cell_type": "markdown",
   "metadata": {},
   "source": [
    "### cut function\n",
    "\n",
    "The cut function returns a Categorical type object. What gets displayed are the various categories for each element. However, the Categorical object has two attributes: `codes` and `categories`. The `categories` are what you'd think. It is an array of your unique categories in the proper order. The `codes` are the positions of that categories array that each element of the Categorical object is referencing.\n",
    "\n",
    "\n",
    "See: https://pandas.pydata.org/docs/reference/api/pandas.cut.html and https://stackoverflow.com/questions/66775129/hide-labels-from-pandas-cut-customised-interval-index"
   ]
  },
  {
   "cell_type": "code",
   "execution_count": null,
   "metadata": {},
   "outputs": [],
   "source": [
    "import pandas as pd\n",
    "import numpy as np\n",
    "\n",
    "# Discretize into three equal-sized bins.\n",
    "# the output is the bin for each data point, as well as the 3 bins\n",
    "s = np.array([1, 7, 5, 6.5, 6, 3])\n",
    "# the cut function returns \n",
    "result = pd.cut(s, 3)\n",
    "print(result)"
   ]
  },
  {
   "cell_type": "code",
   "execution_count": null,
   "metadata": {},
   "outputs": [],
   "source": [
    "print('\\ncategories\\n', result.categories)\n",
    "print('codes\\n', result.codes)"
   ]
  },
  {
   "cell_type": "code",
   "execution_count": null,
   "metadata": {},
   "outputs": [],
   "source": [
    "# we can have the cutoffs returned also with retbins set to True\n",
    "bins, cutoffs = pd.cut(s, 3, retbins=True)\n",
    "print('bins\\n', bins)\n",
    "print('\\ncutoffs\\n',cutoffs)"
   ]
  },
  {
   "cell_type": "code",
   "execution_count": null,
   "metadata": {},
   "outputs": [],
   "source": [
    "#To add labels to bins\n",
    "pd.cut(s, 3,labels=[\"Small\",\"Medium\",\"Large\"])"
   ]
  },
  {
   "cell_type": "code",
   "execution_count": null,
   "metadata": {},
   "outputs": [],
   "source": [
    "# count the number of observations in each bin\n",
    "pd.cut(s,3,labels=[\"Small\",\"Medium\",\"Large\"]).value_counts()"
   ]
  },
  {
   "cell_type": "markdown",
   "metadata": {},
   "source": [
    "### Sample dataset"
   ]
  },
  {
   "cell_type": "code",
   "execution_count": null,
   "metadata": {},
   "outputs": [],
   "source": [
    "# read sample dataset\n",
    "data = pd.read_csv('../datasets/feedback.csv')\n",
    "data.head()"
   ]
  },
  {
   "cell_type": "code",
   "execution_count": null,
   "metadata": {},
   "outputs": [],
   "source": [
    "# let's bin the price \n",
    "pd.cut( data['price'], 3 )"
   ]
  },
  {
   "cell_type": "code",
   "execution_count": null,
   "metadata": {},
   "outputs": [],
   "source": [
    "# add the bin as a new variable on the dataset\n",
    "# labels = False will number the bins (in this case: 0, 1, 2)\n",
    "data['price_bin'] = pd.cut( data['price'], 3, labels=False)\n",
    "data.head()"
   ]
  },
  {
   "cell_type": "code",
   "execution_count": null,
   "metadata": {},
   "outputs": [],
   "source": [
    "# let's see how well the observations are spread over the bins \n",
    "data['price_bin'].value_counts()"
   ]
  },
  {
   "cell_type": "markdown",
   "metadata": {},
   "source": [
    "### Providing the cutoffs\n",
    "\n",
    "It is possible to specify the cutoffs for the binning using numpy linspace, which return evenly spaced numbers over a specified interval (see https://numpy.org/doc/stable/reference/generated/numpy.linspace.html).\n",
    "\n",
    "Other functions that are similar are pandas arange() (https://numpy.org/doc/stable/reference/generated/numpy.arange.html) and interval_range() (https://pandas.pydata.org/docs/reference/api/pandas.interval_range.html)."
   ]
  },
  {
   "cell_type": "code",
   "execution_count": null,
   "metadata": {},
   "outputs": [],
   "source": [
    "data['price'].describe()"
   ]
  },
  {
   "cell_type": "code",
   "execution_count": null,
   "metadata": {},
   "outputs": [],
   "source": [
    "# let's keep observations up to 300\n",
    "data = data[ data['price'] <= 300]"
   ]
  },
  {
   "cell_type": "code",
   "execution_count": null,
   "metadata": {},
   "outputs": [],
   "source": [
    "# evenly spaced out numbers between 0 and 300\n",
    "# 11 numbers to get 10 buckets\n",
    "np.linspace(0, 300, 11)"
   ]
  },
  {
   "cell_type": "code",
   "execution_count": null,
   "metadata": {},
   "outputs": [],
   "source": [
    "data['price_decile'] = pd.cut( data['price'], bins=np.linspace(0, 300, 11), labels=False )\n",
    "data.head()"
   ]
  },
  {
   "cell_type": "code",
   "execution_count": null,
   "metadata": {},
   "outputs": [],
   "source": [
    "data['price_decile'].value_counts()"
   ]
  },
  {
   "cell_type": "markdown",
   "metadata": {},
   "source": [
    "#### Zip\n",
    "\n",
    "Let's use the zip function to tie together the cutoffs and labels\n"
   ]
  },
  {
   "cell_type": "code",
   "execution_count": null,
   "metadata": {},
   "outputs": [],
   "source": [
    "# we can have the cutoffs returned also with retbins set to True\n",
    "bins, cutoffs = pd.cut(data['price'], 5, retbins=True)\n",
    "cutoffs"
   ]
  },
  {
   "cell_type": "code",
   "execution_count": null,
   "metadata": {},
   "outputs": [],
   "source": [
    "bin_labels = ['very low', 'low', 'medium', 'high', 'very high']"
   ]
  },
  {
   "cell_type": "code",
   "execution_count": null,
   "metadata": {},
   "outputs": [],
   "source": [
    "bin_info = pd.DataFrame(zip(cutoffs, bin_labels),\n",
    "                             columns=['Cutoff', 'Description'])\n",
    "bin_info"
   ]
  },
  {
   "cell_type": "markdown",
   "metadata": {},
   "source": [
    "### qcut\n",
    "\n",
    "Let's repeat this with qcut. qcut will have the same #obs in each bucket, so outliers don't have much influence."
   ]
  },
  {
   "cell_type": "code",
   "execution_count": null,
   "metadata": {},
   "outputs": [],
   "source": [
    "print( 'cut\\n', pd.cut(s, 3) )\n",
    "print( '\\nqcut\\n', pd.qcut(s, 3) )"
   ]
  },
  {
   "cell_type": "code",
   "execution_count": null,
   "metadata": {},
   "outputs": [],
   "source": [
    "print( 'cut\\n', pd.cut(s, 3).value_counts() )\n",
    "print( '\\nqcut\\n', pd.qcut(s, 3).value_counts() )"
   ]
  },
  {
   "cell_type": "code",
   "execution_count": null,
   "metadata": {},
   "outputs": [],
   "source": [
    "# re-read sample dataset\n",
    "data = pd.read_csv('../datasets/feedback.csv')\n",
    "\n",
    "# add the bin as a new variable on the dataset\n",
    "# labels = False will number the bins (in this case: 0, 1, 2)\n",
    "data['price_bin'] = pd.qcut( data['price'], 3, labels=False)\n",
    "data.head()"
   ]
  },
  {
   "cell_type": "code",
   "execution_count": null,
   "metadata": {},
   "outputs": [],
   "source": [
    "data['price_bin'].value_counts()"
   ]
  },
  {
   "cell_type": "code",
   "execution_count": null,
   "metadata": {},
   "outputs": [],
   "source": [
    "# why not exact counts?\n",
    "df_sorted=data.sort_values('price')\n",
    "df_sorted.head()"
   ]
  },
  {
   "cell_type": "code",
   "execution_count": null,
   "metadata": {},
   "outputs": [],
   "source": [
    "df_sorted[[\"price\"]][17091:17105]"
   ]
  }
 ],
 "metadata": {
  "kernelspec": {
   "display_name": "Python 3",
   "language": "python",
   "name": "python3"
  },
  "language_info": {
   "codemirror_mode": {
    "name": "ipython",
    "version": 3
   },
   "file_extension": ".py",
   "mimetype": "text/x-python",
   "name": "python",
   "nbconvert_exporter": "python",
   "pygments_lexer": "ipython3",
   "version": "3.8.8"
  },
  "vscode": {
   "interpreter": {
    "hash": "cd78fef2128015050713e82ca51c6520b11aee7c9ee8df750520bbbc7384cbaa"
   }
  }
 },
 "nbformat": 4,
 "nbformat_minor": 2
}
