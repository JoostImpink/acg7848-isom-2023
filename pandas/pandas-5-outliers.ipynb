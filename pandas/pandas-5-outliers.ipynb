{
 "cells": [
  {
   "cell_type": "markdown",
   "id": "3eff872a",
   "metadata": {},
   "source": [
    "# Outliers\n",
    "\n",
    "Outliers can be the result of measurement errors/mistakes, or can be extreme yet valid values. It may not always be clear which is the case. Either way, outliers (or 'leverage points') may have a large effect on aggregates like the average, and standard deviation, and also on regression estimates. \n",
    "\n",
    "There are several ways of dealing with outliers. Some methods remove the outliers from the dataset, while other methods change the extreme values to less extreme/normal values.\n",
    "\n",
    "Methods discussed in this notebook:\n",
    "    \n",
    "- winsorizing (and trimming) based on percentiles\n",
    "- trimming based on standard deviation, interquartile range \n",
    "\n",
    "Other ways to reduce the effect of outliers:\n",
    "- binning, see [pandas-4-binning.ipynb](pandas-4-binning.ipynb)\n",
    "- taking the log of the value\n",
    "- ranking a variable, by giving the smallest value a value of 1, the next a 2, etc (this gives the variable a uniform distribution)"
   ]
  },
  {
   "cell_type": "markdown",
   "id": "2859ae1c",
   "metadata": {},
   "source": [
    "### Sample dataset"
   ]
  },
  {
   "cell_type": "code",
   "execution_count": null,
   "id": "4c80c5aa",
   "metadata": {
    "scrolled": true
   },
   "outputs": [],
   "source": [
    "import pandas as pd\n",
    "import numpy as np\n",
    "\n",
    "# read sample dataset\n",
    "data = pd.read_csv('../datasets/feedback.csv')\n",
    "data.describe()"
   ]
  },
  {
   "cell_type": "markdown",
   "id": "1af0b370",
   "metadata": {},
   "source": [
    "## Winsorizing\n",
    "\n",
    "Winsorizing transforms a variable by reducing the extreme values (on both the lower and upper tail). For large sample sizes it is typically based on the first and last percentile. For smaller samples, it can be 2% and 98% or 5% and 95% as well.\n",
    "\n",
    "What winsorizing does is best explained by a picture (see below). Both distributions have the same number of observations. The winsorized data (lower panel) doesn't have the tails and the outside 'buckets' are a bit fatter (the extreme observations are included in the last buckets). \n",
    "\n",
    "![winsorized](images/winsorized.png)\n",
    "\n",
    "Image source: https://blogs.sas.com/content/iml/2017/02/08/winsorization-good-bad-and-ugly.html"
   ]
  },
  {
   "cell_type": "code",
   "execution_count": null,
   "id": "4c35dcf6",
   "metadata": {},
   "outputs": [],
   "source": [
    "# to winsorize use scipy mstats \n",
    "# the winsorize method returns a 'masked array', the data within that array can be accessed with .data\n",
    "# https://docs.scipy.org/doc/scipy-0.14.0/reference/generated/scipy.stats.mstats.winsorize.html\n",
    "\n",
    "# import mstats\n",
    "from scipy.stats import mstats\n",
    "\n",
    "# add winsorized price to dataframe\n",
    "data['price_w'] = mstats.winsorize(data['price'], limits=[0.01, 0.01]).data\n",
    "# compare the distributions\n",
    "data[['price', 'price_w']].describe()"
   ]
  },
  {
   "cell_type": "markdown",
   "id": "5a6db145",
   "metadata": {},
   "source": [
    "## Trimming\n",
    "\n",
    "Trimming is like a hair-cut; observations with extreme values will be removed.\n",
    "\n",
    "Typical ways to set the cut-off values:\n",
    "    \n",
    "- using percentiles (for example 1% and 99%)\n",
    "- using the z-value (number of standard deviations)\n",
    "- using the interquartile range\n",
    "\n",
    "See https://machinelearningmastery.com/how-to-use-statistics-to-identify-outliers-in-data/"
   ]
  },
  {
   "cell_type": "markdown",
   "id": "441b894c",
   "metadata": {},
   "source": [
    "### Trimming using percentiles"
   ]
  },
  {
   "cell_type": "code",
   "execution_count": null,
   "id": "1e0f91cc",
   "metadata": {},
   "outputs": [],
   "source": [
    "# re-read sample dataset\n",
    "data = pd.read_csv('../datasets/feedback.csv')\n",
    "\n",
    "# get the first and last percentiles for price\n",
    "q_low = data[\"price\"].quantile(0.01)\n",
    "q_hi  = data[\"price\"].quantile(0.99)\n",
    "\n",
    "print(\"first percentile:\", q_low, \"last percentile: \", q_hi)\n",
    "\n",
    "# filter\n",
    "data_filtered = data[(data[\"price\"] < q_hi) & (data[\"price\"] > q_low)]\n",
    "# see the distribution\n",
    "data_filtered[['price']].describe()"
   ]
  },
  {
   "cell_type": "markdown",
   "id": "d630c780",
   "metadata": {},
   "source": [
    "### Trimming based on Z-score\n",
    "\n",
    "The z-score is the number of standard deviations some observation is away from the mean. \n",
    "\n",
    "It is typical to drop observations that are more than 3 standard deviations away from the mean."
   ]
  },
  {
   "cell_type": "code",
   "execution_count": null,
   "id": "28bd5f90",
   "metadata": {},
   "outputs": [],
   "source": [
    "from scipy import stats\n",
    "\n",
    "# re-read sample dataset\n",
    "data = pd.read_csv('../datasets/feedback.csv')\n",
    "\n",
    "# based on z-score (#standard deviations)\n",
    "data_filtered = data[(np.abs(stats.zscore(data['price'])) < 3)]\n",
    "\n",
    "# see the distribution\n",
    "data_filtered[['price']].describe()\n",
    "\n",
    "# https://stackoverflow.com/questions/23199796/detect-and-exclude-outliers-in-a-pandas-dataframe"
   ]
  },
  {
   "cell_type": "markdown",
   "id": "22de224b",
   "metadata": {},
   "source": [
    "### Trimming based on Interquartile range\n",
    "\n",
    "The interquartile range is the difference between the 75th and 25th percentile. This range is multiplied by 1.5 and the 'added' to both sides of the distribution (subtracted from 25th percentile, and added to the 75th percentile). Observations with values outside this range are dropped."
   ]
  },
  {
   "cell_type": "code",
   "execution_count": null,
   "id": "79350dd5",
   "metadata": {},
   "outputs": [],
   "source": [
    "from numpy import percentile\n",
    "\n",
    "# re-read sample dataset\n",
    "data = pd.read_csv('../datasets/feedback.csv')\n",
    "\n",
    "# calculate interquartile range\n",
    "q25, q75 = percentile(data['price'], 25), percentile(data['price'], 75)\n",
    "iqr = q75 - q25\n",
    "\n",
    "# calculate the outlier cutoff\n",
    "cut_off = iqr * 1.5\n",
    "lower, upper = q25 - cut_off, q75 + cut_off\n",
    "\n",
    "# remove outliers\n",
    "data_filtered = data[(data[\"price\"] > lower) & (data[\"price\"] < upper)]\n",
    "\n",
    "# see the distribution\n",
    "data_filtered[['price']].describe()"
   ]
  },
  {
   "cell_type": "code",
   "execution_count": null,
   "id": "1d266daf",
   "metadata": {},
   "outputs": [],
   "source": []
  }
 ],
 "metadata": {
  "kernelspec": {
   "display_name": "Python 3",
   "language": "python",
   "name": "python3"
  },
  "language_info": {
   "codemirror_mode": {
    "name": "ipython",
    "version": 3
   },
   "file_extension": ".py",
   "mimetype": "text/x-python",
   "name": "python",
   "nbconvert_exporter": "python",
   "pygments_lexer": "ipython3",
   "version": "3.8.8"
  }
 },
 "nbformat": 4,
 "nbformat_minor": 5
}
