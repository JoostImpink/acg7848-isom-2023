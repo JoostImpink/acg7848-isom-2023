{
 "cells": [
  {
   "cell_type": "markdown",
   "id": "ca394e78",
   "metadata": {},
   "source": [
    "# Exploring datasets: Pivot tables\n",
    "\n",
    "Like groupby, pivot tables are used to partition the data and quickly get summarized data. \n",
    "\n",
    "Pandas has a pivot_table() function:\n",
    "\n",
    "- index: variables to partition on (becomes rows)\n",
    "- columns: optional variable to partition on in the columns\n",
    "- values: variables to get aggregates on\n",
    "- aggfunc: function to use to get aggregates (for example np.sum for sum, or len for count)"
   ]
  },
  {
   "cell_type": "markdown",
   "id": "60ed6c24",
   "metadata": {},
   "source": [
    "The following cheat-sheet is helpful:"
   ]
  },
  {
   "cell_type": "code",
   "execution_count": null,
   "id": "de995a0b",
   "metadata": {},
   "outputs": [],
   "source": [
    "from IPython.display import Image\n",
    "Image(\"images/pivot-table-datasheet.png\")"
   ]
  },
  {
   "cell_type": "markdown",
   "id": "0904ec98",
   "metadata": {},
   "source": [
    "From: https://pbpython.com/pandas-pivot-table-explained.html"
   ]
  },
  {
   "cell_type": "code",
   "execution_count": null,
   "id": "3c2e3373",
   "metadata": {},
   "outputs": [],
   "source": [
    "import pandas as pd\n",
    "df = pd.read_csv(\"../datasets/glassdoor.csv\")\n",
    "df.head()"
   ]
  },
  {
   "cell_type": "code",
   "execution_count": null,
   "id": "e0bd4237",
   "metadata": {},
   "outputs": [],
   "source": [
    "# group by firm and job title, get average value for worklife\n",
    "pd.pivot_table(df,index=[\"firm\",\"auditor_city\"],values=[\"worklife\"])"
   ]
  },
  {
   "cell_type": "code",
   "execution_count": null,
   "id": "358cec1a",
   "metadata": {},
   "outputs": [],
   "source": [
    "# columns for the different values of department\n",
    "pd.pivot_table(df,index=[\"firm\",\"department\"],columns=['auditor_city'],values=[\"worklife\"])"
   ]
  },
  {
   "cell_type": "code",
   "execution_count": null,
   "id": "1bc5cd38",
   "metadata": {},
   "outputs": [],
   "source": [
    "# Fill_value = \"\" to supress NaNs\n",
    "pd.pivot_table(df,index=[\"firm\",\"department\"],columns=['auditor_city'],values=[\"worklife\"], fill_value=\"\")"
   ]
  },
  {
   "cell_type": "code",
   "execution_count": null,
   "id": "547acb1b",
   "metadata": {},
   "outputs": [],
   "source": [
    "# average and len (#obs)\n",
    "import numpy as np\n",
    "pd.pivot_table(df,index=[\"firm\",\"department\"],columns=['auditor_city'],values=[\"worklife\"], fill_value=\"\",aggfunc=[np.mean,len])"
   ]
  },
  {
   "cell_type": "code",
   "execution_count": null,
   "id": "fa7acdee",
   "metadata": {},
   "outputs": [],
   "source": [
    "# assign pivot table to a variable (DataFrame)\n",
    "t = pd.pivot_table(df,index=[\"firm\",\"department\"],columns=['auditor_city'],values=[\"worklife\"], fill_value=\"\",aggfunc=[np.mean,len])"
   ]
  },
  {
   "cell_type": "code",
   "execution_count": null,
   "id": "92c2142f",
   "metadata": {},
   "outputs": [],
   "source": [
    "t.index"
   ]
  },
  {
   "cell_type": "code",
   "execution_count": null,
   "id": "2ea730c8",
   "metadata": {},
   "outputs": [],
   "source": [
    "# it supports query(), https://pandas.pydata.org/pandas-docs/stable/reference/api/pandas.DataFrame.query.html\n",
    "# filter on departments (tax and audit only)\n",
    "t.query('department == [\"tax\",\"audit\"]')"
   ]
  },
  {
   "cell_type": "code",
   "execution_count": null,
   "id": "99b5e864",
   "metadata": {},
   "outputs": [],
   "source": [
    "# I wasn't able to filter on 'columns' ()\n",
    "# this throws an error\n",
    "t.query('auditor_city == [\"miami\",\"orlando\"]')"
   ]
  },
  {
   "cell_type": "code",
   "execution_count": null,
   "id": "4766a2cd",
   "metadata": {},
   "outputs": [],
   "source": [
    "# the workaround: include auditor_city in the index, and columns for the departments\n",
    "t = pd.pivot_table(df,index=[\"firm\",\"auditor_city\"],columns=['department'],values=[\"worklife\"], fill_value=\"\",aggfunc=[np.mean,len])\n",
    "t.query('auditor_city == [\"miami\",\"orlando\"]')"
   ]
  },
  {
   "cell_type": "code",
   "execution_count": null,
   "id": "baefa8a6",
   "metadata": {},
   "outputs": [],
   "source": []
  }
 ],
 "metadata": {
  "kernelspec": {
   "display_name": "Python 3",
   "language": "python",
   "name": "python3"
  },
  "language_info": {
   "codemirror_mode": {
    "name": "ipython",
    "version": 3
   },
   "file_extension": ".py",
   "mimetype": "text/x-python",
   "name": "python",
   "nbconvert_exporter": "python",
   "pygments_lexer": "ipython3",
   "version": "3.8.8"
  }
 },
 "nbformat": 4,
 "nbformat_minor": 5
}
