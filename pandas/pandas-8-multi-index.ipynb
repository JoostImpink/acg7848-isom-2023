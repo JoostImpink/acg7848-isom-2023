{
 "cells": [
  {
   "cell_type": "markdown",
   "metadata": {},
   "source": [
    "# Multi Index\n",
    "\n",
    "Multi-level indices in pandas refer to a way of organizing data in a dataframe by creating a hierarchical index consisting of multiple levels. This allows for more complex and specific grouping and selection of data within the dataframe.\n",
    "\n",
    "Each level of the index represents a different dimension of the data, with the first level being the most general and the last level being the most specific. Multi-level indices can be created using the `set_index` function in pandas.\n",
    "\n",
    "To select data from a multi-level index, you can use the `loc` function and specify the index values for each level. You can also use the `xs` function to select data from a specific level of the index.\n",
    "\n",
    "Multi-level indices can be used on both rows and columns in pandas dataframes to organize and analyze complex data structures. (Multi-level columns are used when you wanted to group columns together.)\n"
   ]
  },
  {
   "cell_type": "markdown",
   "metadata": {},
   "source": [
    "## Example"
   ]
  },
  {
   "cell_type": "code",
   "execution_count": null,
   "metadata": {},
   "outputs": [],
   "source": [
    "#get original DataFrame’s index label\n",
    "import pandas as pd\n",
    "df = pd.read_excel('../datasets/State Tax and GSP.xlsx')\n",
    "print( 'index:', df.index )\n",
    "print( 'index.names:', df.index.names )"
   ]
  },
  {
   "cell_type": "markdown",
   "metadata": {},
   "source": [
    "To create a Multi-index with our original DataFrame, we use the __.set_index()__ function with multiple variables. The first variable is most general (State) and the second one more specific (Year)"
   ]
  },
  {
   "cell_type": "code",
   "execution_count": null,
   "metadata": {},
   "outputs": [],
   "source": [
    "multi = df.set_index(['State', 'Year'])\n",
    "print(multi)"
   ]
  },
  {
   "cell_type": "markdown",
   "metadata": {},
   "source": [
    "### multi-level indices: names, levels, and values"
   ]
  },
  {
   "cell_type": "code",
   "execution_count": null,
   "metadata": {},
   "outputs": [],
   "source": [
    "# index names, levels and values\n",
    "print( 'index names:', multi.index.names )\n",
    "print( 'index levels:', multi.index.levels )"
   ]
  },
  {
   "cell_type": "code",
   "execution_count": null,
   "metadata": {
    "scrolled": true
   },
   "outputs": [],
   "source": [
    "# displays each index value (list of tuples)\n",
    "multi.index.values"
   ]
  },
  {
   "cell_type": "code",
   "execution_count": null,
   "metadata": {},
   "outputs": [],
   "source": [
    "# this is also the number of records (since each state-year is unique)\n",
    "len(multi.index.values)"
   ]
  },
  {
   "cell_type": "markdown",
   "metadata": {},
   "source": [
    "### `loc` function"
   ]
  },
  {
   "cell_type": "code",
   "execution_count": null,
   "metadata": {},
   "outputs": [],
   "source": [
    "# using .loc function to get all the data for a given index\n",
    "multi.loc[('Florida'), :].head()"
   ]
  },
  {
   "cell_type": "markdown",
   "metadata": {},
   "source": [
    "### `xs` function"
   ]
  },
  {
   "cell_type": "code",
   "execution_count": null,
   "metadata": {},
   "outputs": [],
   "source": [
    "# xs function has different syntax\n",
    "multi.xs('Florida', level='State').head()"
   ]
  },
  {
   "cell_type": "code",
   "execution_count": null,
   "metadata": {},
   "outputs": [],
   "source": [
    "# multiple indices: specify index values as a tuple\n",
    "multi.xs( ( 'Florida', 2019) )"
   ]
  },
  {
   "cell_type": "markdown",
   "metadata": {},
   "source": [
    "### Selecting multiple rows"
   ]
  },
  {
   "cell_type": "code",
   "execution_count": null,
   "metadata": {},
   "outputs": [],
   "source": [
    "# several (list) of multiple indices: specify as list of tuples\n",
    "# using loc\n",
    "multi.loc[[ ( 'Florida', 2019), ( 'Alabama', 2019) ] ]"
   ]
  },
  {
   "cell_type": "markdown",
   "metadata": {},
   "source": [
    "### Aggregate functions"
   ]
  },
  {
   "cell_type": "code",
   "execution_count": null,
   "metadata": {},
   "outputs": [],
   "source": [
    "# sum function\n",
    "multi.xs('Florida', level='State').sum()"
   ]
  },
  {
   "cell_type": "markdown",
   "metadata": {},
   "source": [
    "### Further reading\n",
    "\n",
    "Documentation, indexing (in general): https://pandas.pydata.org/pandas-docs/stable/user_guide/indexing.html \n",
    "        \n",
    "More on multi-level indices: https://towardsdatascience.com/confused-by-multi-index-in-pandas-9-essential-operations-to-know-e6aec29ee6d8\n",
    "        \n",
    "Slicing: https://kanoki.org/2022/07/25/pandas-select-slice-rows-columns-multiindex-dataframe/\n",
    "    "
   ]
  },
  {
   "cell_type": "code",
   "execution_count": null,
   "metadata": {},
   "outputs": [],
   "source": []
  }
 ],
 "metadata": {
  "kernelspec": {
   "display_name": "Python 3",
   "language": "python",
   "name": "python3"
  },
  "language_info": {
   "codemirror_mode": {
    "name": "ipython",
    "version": 3
   },
   "file_extension": ".py",
   "mimetype": "text/x-python",
   "name": "python",
   "nbconvert_exporter": "python",
   "pygments_lexer": "ipython3",
   "version": "3.8.8"
  },
  "vscode": {
   "interpreter": {
    "hash": "cd78fef2128015050713e82ca51c6520b11aee7c9ee8df750520bbbc7384cbaa"
   }
  }
 },
 "nbformat": 4,
 "nbformat_minor": 2
}
