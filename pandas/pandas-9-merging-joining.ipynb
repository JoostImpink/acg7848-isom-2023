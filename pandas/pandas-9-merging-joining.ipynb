{
 "cells": [
  {
   "cell_type": "markdown",
   "metadata": {},
   "source": [
    "# Merging/Joining: \n",
    "\n",
    "Pandas provides a single function, __merge__, as the entry point for all standard database join operations between DataFrame objects −<br>\n",
    "\n",
    "Ex:\n",
    "__pd.merge(left, right, how='inner', on=None, left_on=None, right_on=None, left_index=False, right_index=False, sort=True)__\n",
    "\n",
    "Here, we have used the following parameters −<br>\n",
    "- left − A DataFrame object.\n",
    "- right − Another DataFrame object.\n",
    "- on − Columns (names) to join on. Must be found in both the left and right DataFrame objects.\n",
    "- left_on − Columns from the left DataFrame to use as keys. Can either be column names or arrays with length equal to the length of the DataFrame.\n",
    "- right_on − Columns from the right DataFrame to use as keys. Can either be column names or arrays with length equal to the length of the DataFrame.\n",
    "- left_index − If True, use the index from the left DataFrame as its join key(s). \n",
    "- right_index − Same usage as left_index for the right DataFrame.\n",
    "- how − One of 'left', 'right', 'outer', 'inner'. Defaults to inner. \n",
    "- sort − Sort the result DataFrame by the join keys in lexicographical order. \n"
   ]
  },
  {
   "cell_type": "code",
   "execution_count": null,
   "metadata": {},
   "outputs": [],
   "source": [
    "import pandas as pd\n",
    "\n",
    "# two sample dataframes\n",
    "left = pd.DataFrame({ 'roll no':[1,2,3,4,5], 'Name': ['Alex', 'Amy', 'Allen', 'Alice', 'Ayoung'],'subject':['sub1','sub2','sub4','sub6','sub5']})\n",
    "right = pd.DataFrame({ 'roll no':[1,2,3,4,5], 'Name': ['Billy', 'Brian', 'Bran', 'Bryce', 'Betty'],'subject':['sub2','sub4','sub3','sub6','sub5']})\n",
    "print ('left:\\n', left)\n",
    "print ('right:\\n', right)"
   ]
  },
  {
   "cell_type": "code",
   "execution_count": null,
   "metadata": {},
   "outputs": [],
   "source": [
    "# merge on variable 'roll no' \n",
    "m1 = pd.merge(left, right, on='roll no')\n",
    "print (m1)"
   ]
  },
  {
   "cell_type": "markdown",
   "metadata": {},
   "source": [
    "## Merge Using 'how' Argument:\n",
    "The how argument to merge specifies how to determine which keys are to be included in the resulting table.<br>\n",
    "If a key combination does not appear in either the left or the right tables, the values in the joined table will be NA.<br>\n",
    "Here is a summary of the how options and their SQL equivalent names:\n",
    "\n",
    "1. left\t(LEFT OUTER JOIN)- Use keys from left object\n",
    "2. right (RIGHT OUTER JOIN)- Use keys from right object\n",
    "3. outer (FULL OUTER JOIN)-\tUse union of keys\n",
    "4. inner (INNER JOIN)-\tUse intersection of keys"
   ]
  },
  {
   "cell_type": "code",
   "execution_count": null,
   "metadata": {},
   "outputs": [],
   "source": [
    "# left join (using a different variable - subject)\n",
    "m2 = pd.merge(left, right, on='subject', how='left')\n",
    "print (m2)"
   ]
  },
  {
   "cell_type": "code",
   "execution_count": null,
   "metadata": {},
   "outputs": [],
   "source": [
    "# right join on variable subject\n",
    "m3 = pd.merge(left, right, on='subject', how='right')\n",
    "print (m3)"
   ]
  },
  {
   "cell_type": "code",
   "execution_count": null,
   "metadata": {},
   "outputs": [],
   "source": [
    "# outer join\n",
    "m4 = pd.merge(left, right, how='outer', on='subject')\n",
    "print (m4)"
   ]
  },
  {
   "cell_type": "code",
   "execution_count": null,
   "metadata": {},
   "outputs": [],
   "source": [
    "# inner join (this is the default)\n",
    "m5 = pd.merge(left, right, on='subject', how='inner')\n",
    "print (m5)"
   ]
  },
  {
   "cell_type": "markdown",
   "metadata": {},
   "source": [
    "# `concat` function for concatenation \n",
    "\n",
    "Pandas provides various facilities for easily __combining together Series, DataFrame, and Panel objects.__<br>\n",
    "\n",
    " __pd.concat(objs,axis=0,join='outer',join_axes=None,ignore_index=False)__\n",
    "\n",
    "- objs − This is a sequence or mapping of Series, DataFrame, or Panel objects.\n",
    "- axis − {0, 1, ...}, default 0. This is the axis to concatenate along.\n",
    "- join − {‘inner’, ‘outer’}, default ‘outer’. How to handle indexes on other axis(es). Outer for union and inner for intersection.\n",
    "- ignore_index − boolean, default False. If True, do not use the index values on the concatenation axis. The resulting axis will be labeled 0,..,n - 1.\n",
    "- join_axes − This is the list of Index objects. Specific indexes to use for the other (n-1) axes instead of performing inner/outer set logic.\n"
   ]
  },
  {
   "cell_type": "markdown",
   "metadata": {},
   "source": [
    "> Note: There is also the `append` function which is similar but deprecated"
   ]
  },
  {
   "cell_type": "code",
   "execution_count": null,
   "metadata": {},
   "outputs": [],
   "source": [
    "# sample dataframes\n",
    "one = pd.DataFrame({'Name': ['Alex', 'Amy', 'Allen', 'Alice', 'Ayoung'], 'subject':['sub1','sub2','sub4','sub6','sub5'], 'Marks':[98,90,87,69,78]}, index=[1,2,3,4,5])\n",
    "two = pd.DataFrame({'Name': ['Billy', 'Brian', 'Bran', 'Bryce', 'Betty'], 'subject':['sub2','sub4','sub3','sub6','sub5'],'Marks':[89,80,79,97,88]},index=[1,2,3,4,5])\n",
    "print('one', one)\n",
    "print('two', two)"
   ]
  },
  {
   "cell_type": "code",
   "execution_count": null,
   "metadata": {},
   "outputs": [],
   "source": [
    "c1 = pd.concat([one, two])\n",
    "print (c1)"
   ]
  },
  {
   "cell_type": "code",
   "execution_count": null,
   "metadata": {},
   "outputs": [],
   "source": [
    "c1.index"
   ]
  },
  {
   "cell_type": "code",
   "execution_count": null,
   "metadata": {},
   "outputs": [],
   "source": [
    "# bring in an extra key (dataframe becomes multi-level index)\n",
    "c2 = pd.concat([one,two],keys=['x','y'])\n",
    "print(c2)"
   ]
  },
  {
   "cell_type": "code",
   "execution_count": null,
   "metadata": {},
   "outputs": [],
   "source": [
    "print('index\\n:', c2.index)"
   ]
  },
  {
   "cell_type": "markdown",
   "metadata": {},
   "source": [
    "### Axis=1\n",
    "\n",
    "Axis=1 will concatenate 'side-by-side' (add columns)"
   ]
  },
  {
   "cell_type": "code",
   "execution_count": null,
   "metadata": {},
   "outputs": [],
   "source": [
    "# axis=1 works on the columns\n",
    "# note how the column names are not unique\n",
    "c3 = pd.concat([one,two],axis=1)\n",
    "print (c3)"
   ]
  },
  {
   "cell_type": "markdown",
   "metadata": {},
   "source": [
    "### good overview\n",
    "\n",
    "Check out the first answer at https://stackoverflow.com/questions/49620538/what-are-the-levels-keys-and-names-arguments-for-in-pandas-concat-functio\n",
    "    "
   ]
  }
 ],
 "metadata": {
  "kernelspec": {
   "display_name": "Python 3",
   "language": "python",
   "name": "python3"
  },
  "language_info": {
   "codemirror_mode": {
    "name": "ipython",
    "version": 3
   },
   "file_extension": ".py",
   "mimetype": "text/x-python",
   "name": "python",
   "nbconvert_exporter": "python",
   "pygments_lexer": "ipython3",
   "version": "3.8.8"
  },
  "vscode": {
   "interpreter": {
    "hash": "cd78fef2128015050713e82ca51c6520b11aee7c9ee8df750520bbbc7384cbaa"
   }
  }
 },
 "nbformat": 4,
 "nbformat_minor": 2
}
