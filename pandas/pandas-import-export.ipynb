{
 "cells": [
  {
   "cell_type": "markdown",
   "metadata": {},
   "source": [
    "# Pandas - Import/export "
   ]
  },
  {
   "cell_type": "markdown",
   "metadata": {},
   "source": [
    "### Example dataset\n",
    "\n",
    "Let's first create a sample dataset and export it"
   ]
  },
  {
   "cell_type": "code",
   "execution_count": null,
   "metadata": {},
   "outputs": [],
   "source": [
    "# import modules\n",
    "import pandas as pd"
   ]
  },
  {
   "cell_type": "code",
   "execution_count": null,
   "metadata": {},
   "outputs": [],
   "source": [
    "# create dataframe\n",
    "raw_data = {'name': ['Willard Morris', 'Al Jennings', 'Omar Mullins', 'Spencer McDaniel'],\n",
    "        'age': [20, 19, 22, 21],\n",
    "        'favorite_color': ['blue', 'red', 'yellow', \"green\"],\n",
    "        'grade': [88, 92, 95, 70]}\n",
    "\n",
    "df = pd.DataFrame(raw_data, columns = ['name', 'age', 'favorite_color', 'grade'])\n",
    "df"
   ]
  },
  {
   "cell_type": "code",
   "execution_count": null,
   "metadata": {},
   "outputs": [],
   "source": [
    "# export DataFrame as csv\n",
    "df.to_csv('../students_small_sample_dataset.csv')"
   ]
  },
  {
   "cell_type": "markdown",
   "metadata": {},
   "source": [
    "## Importing data into a pandas DataFrame"
   ]
  },
  {
   "cell_type": "code",
   "execution_count": null,
   "metadata": {},
   "outputs": [],
   "source": [
    "# import dataframe from csv\n",
    "df = pd.read_csv('../students_small_sample_dataset.csv')\n",
    "df.head()"
   ]
  },
  {
   "cell_type": "markdown",
   "metadata": {},
   "source": [
    "## Import an Excel File into Python using Pandas\n",
    "\n",
    "```\n",
    "df = pd.read_excel(r'Path where the Excel file is stored\\File name.xlsx')\n",
    "```\n",
    "\n",
    "If you have a specific Excel sheet to import, you specify this with `sheet_name`:\n",
    "\n",
    "```\n",
    "df = pd.read_excel(r'Path of Excel file\\File name.xlsx', sheet_name='your Excel sheet name')\n",
    "```"
   ]
  },
  {
   "cell_type": "markdown",
   "metadata": {},
   "source": [
    "You can also limit the number of records read with `nrows`."
   ]
  },
  {
   "cell_type": "code",
   "execution_count": null,
   "metadata": {},
   "outputs": [],
   "source": [
    "df = pd.read_excel(r'..\\datasets\\Compustat-Funda.xlsx',nrows= 1000)\n",
    "df.head()"
   ]
  },
  {
   "cell_type": "markdown",
   "metadata": {},
   "source": [
    "Other options with importing are `skiprows` (will skip these rows) and `use_cols` to specify which columns to keep."
   ]
  },
  {
   "cell_type": "markdown",
   "metadata": {},
   "source": [
    "# Export Pandas DataFrame to an Excel File\n",
    "\n",
    "You can export Pandas DataFrame to an Excel file using to_excel<br>\n",
    "\n",
    "__df.to_excel(r'Path where the exported excel will be stored\\File Name.xlsx', index=False)__\n",
    "\n",
    "If you want to export your DataFrame to a specific Excel Sheet, then:<br>\n",
    "\n",
    "__df.to_excel(r'Path of excel\\File Name.xlsx', sheet_name='Your sheet name', index=False)__"
   ]
  }
 ],
 "metadata": {
  "kernelspec": {
   "display_name": "Python 3",
   "language": "python",
   "name": "python3"
  },
  "language_info": {
   "codemirror_mode": {
    "name": "ipython",
    "version": 3
   },
   "file_extension": ".py",
   "mimetype": "text/x-python",
   "name": "python",
   "nbconvert_exporter": "python",
   "pygments_lexer": "ipython3",
   "version": "3.8.8"
  },
  "vscode": {
   "interpreter": {
    "hash": "cd78fef2128015050713e82ca51c6520b11aee7c9ee8df750520bbbc7384cbaa"
   }
  }
 },
 "nbformat": 4,
 "nbformat_minor": 2
}
