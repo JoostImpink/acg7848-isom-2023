{
 "cells": [
  {
   "cell_type": "markdown",
   "metadata": {},
   "source": [
    "# Loc\n",
    "The Pandas loc indexer can be used with DataFrames for cases when Selecting rows by label/index or Selecting rows with a boolean / conditional lookup.<br>\n",
    "__Syntax__ : data.iloc[<row selection>, <column selection>] <br>"
   ]
  },
  {
   "cell_type": "code",
   "execution_count": null,
   "metadata": {},
   "outputs": [],
   "source": [
    "import pandas as pd\n",
    "import random\n",
    " \n",
    "# read sample dataset\n",
    "data = pd.read_csv('../datasets/uk-500.csv')\n",
    "\n",
    "# set a numeric id for use as an index for examples.\n",
    "# not really needed to have a random id, but the code is useful as an example on how to do that\n",
    "#data['id'] = [random.randint(0,1000) for x in range(data.shape[0])]\n",
    " \n",
    "data.head(5)"
   ]
  },
  {
   "cell_type": "code",
   "execution_count": null,
   "metadata": {},
   "outputs": [],
   "source": [
    "data.index"
   ]
  },
  {
   "cell_type": "code",
   "execution_count": null,
   "metadata": {},
   "outputs": [],
   "source": [
    "# reset the index, and don't make it a regular variable (drop it)\n",
    "data = data.reset_index(drop=True)"
   ]
  },
  {
   "cell_type": "code",
   "execution_count": null,
   "metadata": {},
   "outputs": [],
   "source": [
    "# set the last name as the index\n",
    "data.set_index(\"last_name\", inplace=True)\n",
    "data.head()"
   ]
  },
  {
   "cell_type": "code",
   "execution_count": null,
   "metadata": {},
   "outputs": [],
   "source": [
    "# this wouldn't have worked if the default (0, 1, ..) was still the index\n",
    "data.loc['Andrade']"
   ]
  },
  {
   "cell_type": "code",
   "execution_count": null,
   "metadata": {},
   "outputs": [],
   "source": [
    "# multiple rows\n",
    "data.loc[['Andrade','Veness']]"
   ]
  },
  {
   "cell_type": "code",
   "execution_count": null,
   "metadata": {},
   "outputs": [],
   "source": [
    "data.loc[['Andrade','Veness'],['first_name','address','city']]"
   ]
  },
  {
   "cell_type": "code",
   "execution_count": null,
   "metadata": {},
   "outputs": [],
   "source": [
    "# Booleans\n",
    "data['first_name']=='Erasmo'"
   ]
  },
  {
   "cell_type": "code",
   "execution_count": null,
   "metadata": {},
   "outputs": [],
   "source": [
    "# Booleans work as a filter \n",
    "data.loc[ data['first_name']=='Erasmo', ['first_name','company_name','email','phone1']]"
   ]
  },
  {
   "cell_type": "code",
   "execution_count": null,
   "metadata": {},
   "outputs": [],
   "source": [
    "data.loc[ data['first_name']== 'Antonio', 'email']"
   ]
  },
  {
   "cell_type": "code",
   "execution_count": null,
   "metadata": {},
   "outputs": [],
   "source": [
    "# why does this look different? series vs dataframe\n",
    "data.loc[ data['first_name']== 'Antonio', ['email']]"
   ]
  },
  {
   "cell_type": "markdown",
   "metadata": {},
   "source": [
    "## Iloc\n",
    "The iloc indexer is used for __integer-location based indexing / selection by position__.\n",
    "\n",
    "__Syntax__ : data.iloc[<row selection>, <column selection>] <br>\n",
    "\n",
    " iloc selects rows and columns by number, in the order that they appear in the data frame.<br>\n",
    "\n",
    "### Rows"
   ]
  },
  {
   "cell_type": "code",
   "execution_count": null,
   "metadata": {},
   "outputs": [],
   "source": [
    "# Single selections using iloc and DataFrame\n",
    "data.iloc[0] # first row of data frame (Aleshia Tomkiewicz)"
   ]
  },
  {
   "cell_type": "code",
   "execution_count": null,
   "metadata": {},
   "outputs": [],
   "source": [
    "data.iloc[1] # second row of data frame (Evan Zigomalas)"
   ]
  },
  {
   "cell_type": "code",
   "execution_count": null,
   "metadata": {},
   "outputs": [],
   "source": [
    "data.iloc[-1] # last row of data frame (Mi Richan)"
   ]
  },
  {
   "cell_type": "markdown",
   "metadata": {},
   "source": [
    "### Columns"
   ]
  },
  {
   "cell_type": "code",
   "execution_count": null,
   "metadata": {},
   "outputs": [],
   "source": [
    "# first column of data frame (first_name)\n",
    "data.iloc[:,0]"
   ]
  },
  {
   "cell_type": "code",
   "execution_count": null,
   "metadata": {},
   "outputs": [],
   "source": [
    "# second column of data frame (last_name)\n",
    "data.iloc[:,1] "
   ]
  },
  {
   "cell_type": "code",
   "execution_count": null,
   "metadata": {},
   "outputs": [],
   "source": [
    "# last column of data frame (web)\n",
    "data.iloc[:,-1] "
   ]
  },
  {
   "cell_type": "markdown",
   "metadata": {},
   "source": [
    "### Multiple row and column selections using iloc and DataFrame"
   ]
  },
  {
   "cell_type": "code",
   "execution_count": null,
   "metadata": {},
   "outputs": [],
   "source": [
    "# first five rows of dataframe\n",
    "data.iloc[0:5] "
   ]
  },
  {
   "cell_type": "code",
   "execution_count": null,
   "metadata": {},
   "outputs": [],
   "source": [
    "# first two columns of data frame with all rows\n",
    "data.iloc[:, 0:2] "
   ]
  },
  {
   "cell_type": "code",
   "execution_count": null,
   "metadata": {},
   "outputs": [],
   "source": [
    "# 1st, 4th, 7th, 25th row + 1st 6th 7th columns.\n",
    "data.iloc[[0,3,6,24], [0,5,6]] "
   ]
  },
  {
   "cell_type": "code",
   "execution_count": null,
   "metadata": {},
   "outputs": [],
   "source": [
    "# first 5 rows and 5th, 6th, 7th columns of data frame (county -> phone1).\n",
    "data.iloc[0:5, 5:8]"
   ]
  },
  {
   "cell_type": "code",
   "execution_count": null,
   "metadata": {},
   "outputs": [],
   "source": [
    "# types\n",
    "print(type(data.iloc[100]))\n",
    "print(type(data.iloc[[100]]))\n",
    "print(type (data.iloc[2:10]))\n",
    "print(type (data.iloc[1:2, 3]))\n",
    "print(type (data.iloc[1:2, [3]]))\n",
    "print(type(data.iloc[1:2, 3:6]))"
   ]
  },
  {
   "cell_type": "markdown",
   "metadata": {},
   "source": [
    "# Isin\n",
    "\n",
    "The isin() method checks if the Dataframe contains the specified values. It returns a DataFrame similar to the original DataFrame, but the original values have been replaced with True if the value was one of the specified values, else False.<br>\n",
    "\n",
    "__Syntax__ : dataframe.isin(values)<br>\n",
    "values - The values to check if is in the DataFrame.<br>"
   ]
  },
  {
   "cell_type": "code",
   "execution_count": null,
   "metadata": {},
   "outputs": [],
   "source": [
    "#example\n",
    "data = {\n",
    "  \"name\": [\"A\", \"B\", \"C\"],\n",
    "  \"age\": [20, 63, 12]\n",
    "}\n",
    "\n",
    "df = pd.DataFrame(data)\n",
    "\n",
    "print(df.isin([20, 12]))"
   ]
  },
  {
   "cell_type": "code",
   "execution_count": null,
   "metadata": {},
   "outputs": [],
   "source": [
    "# Creating DataFrame\n",
    "data = pd.DataFrame({\n",
    "  'Name': ['John', 'Sam', 'Luna', 'Harry'],\n",
    "  'Age': [25, 45, 23, 32],\n",
    "  'Department': ['Sales', 'Engineering', 'Engineering', 'Human Resource']\n",
    "})\n",
    " \n",
    "#List of Departments to filter\n",
    "departments_to_filter = ['Engineering', 'Sales', 'Finance']\n",
    " \n",
    "result = data.isin(departments_to_filter)\n",
    " \n",
    "print(result)"
   ]
  },
  {
   "cell_type": "code",
   "execution_count": null,
   "metadata": {},
   "outputs": [],
   "source": [
    "# just filtering the department\n",
    "result = data['Department'].isin(departments_to_filter)\n",
    " \n",
    "print(result)"
   ]
  },
  {
   "cell_type": "code",
   "execution_count": null,
   "metadata": {},
   "outputs": [],
   "source": [
    "# take the filter (list of booleans) to get dataframe with matched rows\n",
    "# this works well if the filter is one column (not multiple columns)\n",
    "data[ result ]"
   ]
  },
  {
   "cell_type": "code",
   "execution_count": null,
   "metadata": {},
   "outputs": [],
   "source": [
    "start_age=20\n",
    "end_age=30\n",
    "# Using isin() method to filter employees on age\n",
    "age_filter = data['Age'].isin(range(start_age, end_age+1))\n",
    "# Using the filter to retrieve the data\n",
    "data[ age_filter ]"
   ]
  },
  {
   "cell_type": "code",
   "execution_count": null,
   "metadata": {},
   "outputs": [],
   "source": [
    "# dictionary that has key-value pairs with variable and filter\n",
    "dict_data_to_filter = {'Name': ['Sam', 'Harry'], 'Department': ['Engineering']}\n",
    " \n",
    "result = data.isin(dict_data_to_filter)\n",
    " \n",
    "print(result)"
   ]
  },
  {
   "cell_type": "code",
   "execution_count": null,
   "metadata": {},
   "outputs": [],
   "source": [
    "# note how this doesn't work the same\n",
    "# each variable gets filtered, if all false, still in output data\n",
    "data[result]"
   ]
  },
  {
   "cell_type": "markdown",
   "metadata": {},
   "source": [
    "### Get rows that satisy both conditions (Name: Sam or Harry, Department: Engineering)"
   ]
  },
  {
   "cell_type": "code",
   "execution_count": null,
   "metadata": {},
   "outputs": [],
   "source": [
    "# easy way (sort of manual)\n",
    "result= data[data['Name'].isin( dict_data_to_filter['Name']) & data['Department'].isin(dict_data_to_filter['Department'])]\n",
    "result"
   ]
  },
  {
   "cell_type": "code",
   "execution_count": null,
   "metadata": {},
   "outputs": [],
   "source": [
    "# fancy (more generic) way\n",
    "# https://stackoverflow.com/questions/67119428/filter-dataframe-using-dictionary-with-multiple-values"
   ]
  },
  {
   "cell_type": "code",
   "execution_count": null,
   "metadata": {},
   "outputs": [],
   "source": [
    "# list of conditions\n",
    "[  (k,v) for (k,v) in dict_data_to_filter.items() ]"
   ]
  },
  {
   "cell_type": "code",
   "execution_count": null,
   "metadata": {},
   "outputs": [],
   "source": [
    "result = data[np.logical_and.reduce([data[k].isin(v) for k, v in dict_data_to_filter.items()])]\n",
    "result"
   ]
  },
  {
   "cell_type": "code",
   "execution_count": null,
   "metadata": {},
   "outputs": [],
   "source": [
    "# example logical or using just numpy arrays\n",
    "# https://stackoverflow.com/a/20528566/2901002\n",
    "import numpy as np\n",
    "x = np.array([True, True, False, False])\n",
    "y = np.array([True, False, True, False])\n",
    "z = np.array([False, False, False, False])\n",
    "xyz = np.array((x, y, z))\n",
    "xyz"
   ]
  },
  {
   "cell_type": "code",
   "execution_count": null,
   "metadata": {},
   "outputs": [],
   "source": [
    "# do this one 'top to bottom' -> True if any of the 3 is True, False otherwise (just the last one)\n",
    "np.logical_or.reduce(xyz)"
   ]
  }
 ],
 "metadata": {
  "kernelspec": {
   "display_name": "Python 3",
   "language": "python",
   "name": "python3"
  },
  "language_info": {
   "codemirror_mode": {
    "name": "ipython",
    "version": 3
   },
   "file_extension": ".py",
   "mimetype": "text/x-python",
   "name": "python",
   "nbconvert_exporter": "python",
   "pygments_lexer": "ipython3",
   "version": "3.8.8"
  },
  "vscode": {
   "interpreter": {
    "hash": "cd78fef2128015050713e82ca51c6520b11aee7c9ee8df750520bbbc7384cbaa"
   }
  }
 },
 "nbformat": 4,
 "nbformat_minor": 2
}
