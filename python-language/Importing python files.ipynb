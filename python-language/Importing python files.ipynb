{
 "cells": [
  {
   "cell_type": "markdown",
   "id": "a844638a",
   "metadata": {},
   "source": [
    "# Importing python files\n",
    "\n",
    "When you notice certain tasks are recurring, it makes sense to organize this in a separate python file. (As opposed to copy-pasting code into a single notebook which will get very 'long' as a result).\n",
    "\n",
    "We have used `import` to use packages like pandas, numpy, statsmodels, etc. But you can also import your own files. The code inside can be organized as classes, but it is not necessary. \n",
    "\n",
    "> Note: the files to import need to be .py files, not notebooks\n"
   ]
  },
  {
   "cell_type": "markdown",
   "id": "123431af",
   "metadata": {},
   "source": [
    "## Example using a .py file that has functions"
   ]
  },
  {
   "cell_type": "markdown",
   "id": "0b0a0806",
   "metadata": {},
   "source": [
    "In the current folder (same as your notebook), create the following file with name 'mymodule.py':\n",
    "    \n",
    "```\n",
    "# example import file with a variable and a function\n",
    "myvar = 5\n",
    "\n",
    "def greet(name):\n",
    "    return ('hello ' + name)\n",
    "```"
   ]
  },
  {
   "cell_type": "code",
   "execution_count": 1,
   "id": "fc770e4a",
   "metadata": {},
   "outputs": [],
   "source": [
    "import mymodule"
   ]
  },
  {
   "cell_type": "code",
   "execution_count": 2,
   "id": "d29e8aad",
   "metadata": {},
   "outputs": [
    {
     "name": "stdout",
     "output_type": "stream",
     "text": [
      "<module 'mymodule' from 'C:\\\\git\\\\python-materials-acg7848\\\\python-language\\\\mymodule.py'>\n"
     ]
    }
   ],
   "source": [
    "print(mymodule)"
   ]
  },
  {
   "cell_type": "markdown",
   "id": "f9b8dccf",
   "metadata": {},
   "source": [
    "### Using the dot (.) "
   ]
  },
  {
   "cell_type": "code",
   "execution_count": 10,
   "id": "7ff08bf1",
   "metadata": {},
   "outputs": [
    {
     "name": "stdout",
     "output_type": "stream",
     "text": [
      "greet: helloJohn\n",
      "myvar: 5\n"
     ]
    }
   ],
   "source": [
    "# when using import <modulename> you need to use a dot to get to the elements inside\n",
    "print('greet:', mymodule.greet('John'))\n",
    "print('myvar:', mymodule.myvar)"
   ]
  },
  {
   "cell_type": "markdown",
   "id": "67a76a1f",
   "metadata": {},
   "source": [
    "### Importing specific elements "
   ]
  },
  {
   "cell_type": "code",
   "execution_count": 14,
   "id": "e845c062",
   "metadata": {},
   "outputs": [],
   "source": [
    "from mymodule import greet, myvar"
   ]
  },
  {
   "cell_type": "code",
   "execution_count": 13,
   "id": "27333530",
   "metadata": {},
   "outputs": [
    {
     "data": {
      "text/plain": [
       "'hello John'"
      ]
     },
     "execution_count": 13,
     "metadata": {},
     "output_type": "execute_result"
    }
   ],
   "source": [
    "greet('John')"
   ]
  },
  {
   "cell_type": "code",
   "execution_count": 15,
   "id": "cd8f6d66",
   "metadata": {},
   "outputs": [
    {
     "data": {
      "text/plain": [
       "5"
      ]
     },
     "execution_count": 15,
     "metadata": {},
     "output_type": "execute_result"
    }
   ],
   "source": [
    "myvar"
   ]
  },
  {
   "cell_type": "markdown",
   "id": "6de7343b",
   "metadata": {},
   "source": [
    "## Example using a .py file that has a class"
   ]
  },
  {
   "cell_type": "markdown",
   "id": "b0669dd8",
   "metadata": {},
   "source": [
    "In the current folder (same as your notebook), create the following file with name 'mymodule2.py':\n",
    "\n",
    "```\n",
    "# example class\n",
    "class Person:\n",
    "    \"This is a person class\"\n",
    "    age = 10\n",
    "    \n",
    "    # init function is called when creating new object\n",
    "    def __init__(self, name):\n",
    "        self.name = name\n",
    "        \n",
    "    def greet(self):\n",
    "        return('Hello, ' + self.name)\n",
    "```"
   ]
  },
  {
   "cell_type": "code",
   "execution_count": 1,
   "id": "9c2356b4",
   "metadata": {},
   "outputs": [],
   "source": [
    "# specifically import the Person class\n",
    "from mymodule2 import Person"
   ]
  },
  {
   "cell_type": "code",
   "execution_count": 2,
   "id": "b7e1b61a",
   "metadata": {},
   "outputs": [
    {
     "name": "stdout",
     "output_type": "stream",
     "text": [
      "<class 'mymodule2.Person'>\n"
     ]
    }
   ],
   "source": [
    "print(Person)"
   ]
  },
  {
   "cell_type": "code",
   "execution_count": 3,
   "id": "a9fe59eb",
   "metadata": {},
   "outputs": [
    {
     "name": "stdout",
     "output_type": "stream",
     "text": [
      "Hello, John\n"
     ]
    }
   ],
   "source": [
    "# instead of mymodule2.Person, it is just Person\n",
    "John = Person(\"John\")\n",
    "print( John.greet() )"
   ]
  },
  {
   "cell_type": "markdown",
   "id": "f1e99eb1",
   "metadata": {},
   "source": [
    "### If you make changes\n",
    "\n",
    "If you make changes to a module file, and need to reimport it, use `importlib.reload( << module name >> )`\n",
    "\n",
    "This seems to work only for `import mymodule`, and not for `from mymodule import greet` (in that case restarting the kernel and rerunning the code will do)."
   ]
  },
  {
   "cell_type": "code",
   "execution_count": 11,
   "id": "0906ac09",
   "metadata": {},
   "outputs": [
    {
     "data": {
      "text/plain": [
       "<module 'mymodule' from 'C:\\\\git\\\\python-materials-acg7848\\\\python-language\\\\mymodule.py'>"
      ]
     },
     "execution_count": 11,
     "metadata": {},
     "output_type": "execute_result"
    }
   ],
   "source": [
    "import importlib\n",
    "importlib.reload(mymodule)"
   ]
  },
  {
   "cell_type": "markdown",
   "id": "0d48b348",
   "metadata": {},
   "source": [
    "### Other folders\n",
    "\n",
    "The files don't need to be placed in the same folder as the current notebook. They can also be placed in other 'system' folders"
   ]
  },
  {
   "cell_type": "code",
   "execution_count": 6,
   "id": "84f6c05e",
   "metadata": {},
   "outputs": [
    {
     "data": {
      "text/plain": [
       "['C:\\\\git\\\\python-materials-acg7848\\\\python-language',\n",
       " 'C:\\\\Users\\\\joost\\\\Anaconda3_2021\\\\python38.zip',\n",
       " 'C:\\\\Users\\\\joost\\\\Anaconda3_2021\\\\DLLs',\n",
       " 'C:\\\\Users\\\\joost\\\\Anaconda3_2021\\\\lib',\n",
       " 'C:\\\\Users\\\\joost\\\\Anaconda3_2021',\n",
       " '',\n",
       " 'C:\\\\Users\\\\joost\\\\Anaconda3_2021\\\\lib\\\\site-packages',\n",
       " 'C:\\\\Users\\\\joost\\\\Anaconda3_2021\\\\lib\\\\site-packages\\\\locket-0.2.1-py3.8.egg',\n",
       " 'C:\\\\Users\\\\joost\\\\Anaconda3_2021\\\\lib\\\\site-packages\\\\win32',\n",
       " 'C:\\\\Users\\\\joost\\\\Anaconda3_2021\\\\lib\\\\site-packages\\\\win32\\\\lib',\n",
       " 'C:\\\\Users\\\\joost\\\\Anaconda3_2021\\\\lib\\\\site-packages\\\\Pythonwin',\n",
       " 'C:\\\\Users\\\\joost\\\\Anaconda3_2021\\\\lib\\\\site-packages\\\\IPython\\\\extensions',\n",
       " 'C:\\\\Users\\\\joost\\\\.ipython']"
      ]
     },
     "execution_count": 6,
     "metadata": {},
     "output_type": "execute_result"
    }
   ],
   "source": [
    "import sys\n",
    "# these are the folders that Python will look for modules\n",
    "sys.path"
   ]
  },
  {
   "cell_type": "markdown",
   "id": "4717088a",
   "metadata": {},
   "source": [
    "### Further reading\n",
    "\n",
    "See https://realpython.com/python-modules-packages/ for further reading (nested packages, etc)"
   ]
  },
  {
   "cell_type": "code",
   "execution_count": null,
   "id": "75288fa9",
   "metadata": {},
   "outputs": [],
   "source": []
  }
 ],
 "metadata": {
  "kernelspec": {
   "display_name": "Python 3",
   "language": "python",
   "name": "python3"
  },
  "language_info": {
   "codemirror_mode": {
    "name": "ipython",
    "version": 3
   },
   "file_extension": ".py",
   "mimetype": "text/x-python",
   "name": "python",
   "nbconvert_exporter": "python",
   "pygments_lexer": "ipython3",
   "version": "3.8.8"
  }
 },
 "nbformat": 4,
 "nbformat_minor": 5
}
