{
 "cells": [
  {
   "cell_type": "markdown",
   "id": "2cbe2aca",
   "metadata": {},
   "source": [
    "# APIs\n",
    "\n",
    "Many websites offer an API (short for Application Programming Interface) through which requests can be made. Typically the response is not HTML, but JSON (JavaScript Object Notation).\n",
    "\n",
    "JSON is a text format for storing and transporting data and is \"self-describing\" (unlike XML which requires a definition schema).\n",
    "\n",
    "See: https://www.infoworld.com/article/3222851/what-is-json-a-better-format-for-data-exchange.html"
   ]
  },
  {
   "cell_type": "markdown",
   "id": "5f8139e2",
   "metadata": {},
   "source": [
    "## JSON Examples"
   ]
  },
  {
   "cell_type": "code",
   "execution_count": null,
   "id": "1e96d74c",
   "metadata": {},
   "outputs": [],
   "source": [
    "import json\n",
    "\n",
    "myvar = \"hello\"\n",
    "print(json.dumps(myvar, indent=4))"
   ]
  },
  {
   "cell_type": "code",
   "execution_count": null,
   "id": "288b73a7",
   "metadata": {},
   "outputs": [],
   "source": [
    "myvar2 = {\n",
    "    \"name\" : \"Joost\",\n",
    "    \"shopping\" :  [ \"bananas\", \"beer\" ] \n",
    "}\n",
    "print(json.dumps(myvar2, indent=4))"
   ]
  },
  {
   "cell_type": "code",
   "execution_count": null,
   "id": "695ac112",
   "metadata": {},
   "outputs": [],
   "source": [
    "myvar3 = { \"name\" : \"Fred\", \"friend\" : myvar2[\"name\"]   }\n",
    "print(json.dumps(myvar3, indent=4))"
   ]
  },
  {
   "cell_type": "markdown",
   "id": "4194a19f",
   "metadata": {},
   "source": [
    "## Requests (web)"
   ]
  },
  {
   "cell_type": "code",
   "execution_count": null,
   "id": "a18167ad",
   "metadata": {},
   "outputs": [],
   "source": [
    "import requests\n",
    "\n",
    "# get json with trending searches from coinmarketcap.com through their api\n",
    "r = requests.get('https://api.coinmarketcap.com/data-api/v3/topsearch/rank')\n",
    "\n",
    "# print json content\n",
    "print(r.json())"
   ]
  },
  {
   "cell_type": "markdown",
   "id": "e067f19d",
   "metadata": {},
   "source": [
    "### copy-paste above json to http://jsonviewer.stack.hu/ to inspect"
   ]
  },
  {
   "cell_type": "markdown",
   "id": "f7c2bc7a",
   "metadata": {},
   "source": [
    "### Api documentation\n",
    "\n",
    "Typically, the API is provided with documentation that describes which calls can be made (how the requests need to be made) and what data can be expected to be returned.\n",
    "\n",
    "For example, see https://coinmarketcap.com/api/documentation/v1/#\n"
   ]
  },
  {
   "cell_type": "code",
   "execution_count": null,
   "id": "60838219",
   "metadata": {},
   "outputs": [],
   "source": [
    "# request a page and print status code\n",
    "r2 = requests.get(r'http://www.coinmarketcap.com')\n",
    "print('status code:', r2.status_code)\n",
    "\n",
    "# status code should be 200\n",
    "if r2.status_code != 200:\n",
    "    print('Status code failed: ', r.status_code)"
   ]
  },
  {
   "cell_type": "code",
   "execution_count": null,
   "id": "2c7bea8f",
   "metadata": {},
   "outputs": [],
   "source": [
    "# let's request a page that does not exist\n",
    "r3 = requests.get(r'http://www.coinmarketcap.com/gogators')\n",
    "print('status code:', r3.status_code)"
   ]
  },
  {
   "cell_type": "markdown",
   "id": "14bf3b3f",
   "metadata": {},
   "source": [
    "## List of dictionaries\n",
    "\n",
    "Get the data in the json into a python list of dictionaries"
   ]
  },
  {
   "cell_type": "code",
   "execution_count": null,
   "id": "8f05fa5f",
   "metadata": {},
   "outputs": [],
   "source": [
    "# get top searches\n",
    "top = r.json()[\"data\"][\"cryptoTopSearchRanks\"]\n",
    "type(top)"
   ]
  },
  {
   "cell_type": "code",
   "execution_count": null,
   "id": "15b77203",
   "metadata": {},
   "outputs": [],
   "source": [
    "# loop through and print\n",
    "for i,t in enumerate(top):\n",
    "    print(\"{}: {} ({}) \".format(i+1, t['name'], t['symbol']))"
   ]
  },
  {
   "cell_type": "code",
   "execution_count": null,
   "id": "d06bf07b",
   "metadata": {},
   "outputs": [],
   "source": [
    "info = [  { \"name\": t['name'] , \"symbol\" : t['symbol'] } for t in top    ]\n",
    "info"
   ]
  },
  {
   "cell_type": "markdown",
   "id": "56b1c26b",
   "metadata": {},
   "source": [
    "## Json to pandas dataframe\n",
    "\n",
    "Import the data into a dataframe"
   ]
  },
  {
   "cell_type": "code",
   "execution_count": null,
   "id": "1b8e3785",
   "metadata": {},
   "outputs": [],
   "source": [
    "from pandas import json_normalize\n",
    "\n",
    "# see: https://pandas.pydata.org/docs/reference/api/pandas.json_normalize.html\n",
    "\n",
    "df = json_normalize(r.json()[\"data\"][\"cryptoTopSearchRanks\"])\n",
    "# or: df = json_normalize( top )\n",
    "df"
   ]
  },
  {
   "cell_type": "code",
   "execution_count": null,
   "id": "2d1f76ba",
   "metadata": {},
   "outputs": [],
   "source": []
  }
 ],
 "metadata": {
  "kernelspec": {
   "display_name": "Python 3",
   "language": "python",
   "name": "python3"
  },
  "language_info": {
   "codemirror_mode": {
    "name": "ipython",
    "version": 3
   },
   "file_extension": ".py",
   "mimetype": "text/x-python",
   "name": "python",
   "nbconvert_exporter": "python",
   "pygments_lexer": "ipython3",
   "version": "3.8.8"
  }
 },
 "nbformat": 4,
 "nbformat_minor": 5
}
