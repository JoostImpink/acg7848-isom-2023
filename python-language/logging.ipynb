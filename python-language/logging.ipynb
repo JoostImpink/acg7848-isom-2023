{
 "cells": [
  {
   "cell_type": "markdown",
   "metadata": {},
   "source": [
    "# Logging Module\n",
    "\n",
    "The Logging module provides a flexible framework for emitting log messages from Python programs.<br>\n",
    "\n",
    "The module provides a way for applications to configure different log handlers and a way of routing log messages to these handlers. This can allow for a highly flexible configuration to manage many different use cases.<br>\n",
    "\n",
    "To emit a log message, a caller first requests a named logger. The application can use the name to configure different rules for different loggers. This logger can then be used to emit simply-formatted messages at different log levels (DEBUG, INFO, ERROR, etc.), which can be used by the application to handle messages of higher priority other than those of a lower priority. That is,<br>\n",
    "\n",
    "```\n",
    "import logging\n",
    "log = logging.getLogger(\"my-logger\")\n",
    "log.info(\"Hello, world\")\n",
    "```\n",
    "\n",
    "Internally, the message is turned into a LogRecord object and routed to a Handler object registered for this logger. The handler will then use a Formatter to turn the LogRecord into a string and emit that string.<br>"
   ]
  },
  {
   "cell_type": "markdown",
   "metadata": {},
   "source": [
    "There are 5 standard levels indicating the severity of events. Each has a corresponding method that can be used to log events at that level of severity. The levels in order of increasing severity, are:<br>\n",
    "\n",
    "- DEBUG\n",
    "- INFO\n",
    "- WARNING\n",
    "- ERROR\n",
    "- CRITICAL\n",
    "\n",
    " The corresponding methods for each level can be called as shown in the following example:<br>"
   ]
  },
  {
   "cell_type": "code",
   "execution_count": null,
   "metadata": {},
   "outputs": [],
   "source": [
    "import logging\n",
    "\n",
    "logging.debug('A debug message')\n",
    "logging.info('An info message')\n",
    "logging.warning('A warning message')\n",
    "logging.error('An error message')\n",
    "logging.critical('A critical message')"
   ]
  },
  {
   "cell_type": "markdown",
   "metadata": {},
   "source": [
    "Notice that the debug() and info() messages didn’t get logged. This is because, by default, the logging module logs the messages with a severity level of WARNING or above.<br>"
   ]
  },
  {
   "cell_type": "markdown",
   "metadata": {},
   "source": [
    "To use logging, all you need to do is setup the basic configuration using __logging.basicConfig()__. Then, instead of print(), you call logging.{level}(message) to show the message.<br>"
   ]
  },
  {
   "cell_type": "code",
   "execution_count": null,
   "metadata": {},
   "outputs": [],
   "source": [
    "# restart the kernel (otherwise won't work)\n",
    "import logging\n",
    "\n",
    "logging.basicConfig(level=logging.DEBUG)\n",
    "logging.debug('This is getting logged')"
   ]
  },
  {
   "cell_type": "markdown",
   "metadata": {},
   "source": [
    "It should be noted that calling basicConfig() to configure the root logger works only if the root logger has not been configured before.<br>\n",
    "\n",
    "debug(), info(), warning(), error(), and critical() also call basicConfig() without arguments automatically if it has not been called before. This means that after the first time one of the above functions is called, you can no longer configure the root logger because they would have called the basicConfig() function internally.<br>"
   ]
  },
  {
   "cell_type": "code",
   "execution_count": null,
   "metadata": {},
   "outputs": [],
   "source": [
    "# To log the process ID along with the level and message\n",
    "# format can take a string with LogRecord attributes in any arrangement\n",
    "logging.basicConfig(format='%(process)d-%(levelname)s-%(message)s')\n",
    "logging.warning('A Warning')"
   ]
  },
  {
   "cell_type": "code",
   "execution_count": null,
   "metadata": {},
   "outputs": [],
   "source": [
    "# example\n",
    "logging.basicConfig(format='%(asctime)s - %(message)s', level=logging.INFO)\n",
    "logging.info('Admin logged in')"
   ]
  },
  {
   "cell_type": "markdown",
   "metadata": {},
   "source": [
    "__%(asctime)s__ adds the time of creation of the LogRecord. The format can be changed using the datefmt attribute, which uses the same formatting language as the formatting functions in the datetime module, such as time.strftime()<br>"
   ]
  },
  {
   "cell_type": "code",
   "execution_count": null,
   "metadata": {},
   "outputs": [],
   "source": [
    "# example\n",
    "logging.basicConfig(format='%(asctime)s - %(message)s', datefmt='%d-%b-%y %H:%M:%S')\n",
    "logging.warning('Admin logged out')"
   ]
  },
  {
   "cell_type": "markdown",
   "metadata": {},
   "source": [
    "#### Logging Variable Data\n",
    "This can actually be done by using a format string for the message and appending the variable data as arguments.<br>"
   ]
  },
  {
   "cell_type": "code",
   "execution_count": null,
   "metadata": {},
   "outputs": [],
   "source": [
    "#example\n",
    "name = 'John'\n",
    "\n",
    "logging.error(f'{name} raised an error')"
   ]
  },
  {
   "cell_type": "markdown",
   "metadata": {},
   "source": [
    "The logging module provides shorthands to add various details to the logged messages. The below image from Python docs shows that list.<br>"
   ]
  },
  {
   "cell_type": "code",
   "execution_count": null,
   "metadata": {
    "scrolled": true
   },
   "outputs": [],
   "source": [
    "from IPython import display\n",
    "display.Image(\"images/logging_formats-min.png\")"
   ]
  },
  {
   "cell_type": "markdown",
   "metadata": {},
   "source": [
    "### Create a new logger\n",
    "\n",
    "You can create a new logger using the __‘logger.getLogger(name)‘__ method. If a logger with the same name exists, then that logger will be used.<br>\n",
    "While you can give pretty much any name to the logger, the convention is to use the __name__ variable like this:"
   ]
  },
  {
   "cell_type": "code",
   "execution_count": null,
   "metadata": {},
   "outputs": [],
   "source": [
    "import logging\n",
    "logger = logging.getLogger(__name__)\n",
    "logger.info('my logging message')"
   ]
  },
  {
   "cell_type": "markdown",
   "metadata": {},
   "source": [
    "We do this because the __name__ variable will hold the name of the module (python file) that called the code. So, when used inside a module, it will create a logger bearing the value provided by the module’s __name__ attribute."
   ]
  },
  {
   "cell_type": "markdown",
   "metadata": {},
   "source": [
    "The __FileHandler()__ and __Formatter()__ classes are used to setup the output file and the format of messages for loggers other than the root logger.<br>\n",
    "\n",
    "We just specified the filename and format parameters in logging.basicConfig() and all subsequent logs went to that file. But, when you create a separate logger, you need to set them up individually using the logging.FileHandler() and logging.Formatter() objects.<br>\n",
    "\n",
    "A FileHandler is used to make your custom logger to log in to a different file. Likewise, a Formatter is used to change the format of your logged messages.<br>"
   ]
  },
  {
   "cell_type": "code",
   "execution_count": null,
   "metadata": {},
   "outputs": [],
   "source": [
    "#example\n",
    "# Gets or creates a logger\n",
    "logger = logging.getLogger(__name__)  \n",
    "\n",
    "# set log level\n",
    "logger.setLevel(logging.WARNING)\n",
    "\n",
    "# define file handler and set formatter\n",
    "file_handler = logging.FileHandler('logfile.log')\n",
    "formatter    = logging.Formatter('%(asctime)s : %(levelname)s : %(name)s : %(message)s')\n",
    "file_handler.setFormatter(formatter)\n",
    "\n",
    "# add file handler to logger\n",
    "logger.addHandler(file_handler)\n",
    "\n",
    "# Logs\n",
    "logger.debug('A debug message')\n",
    "logger.info('An info message')\n",
    "logger.warning('Something is not right.')\n",
    "logger.error('A Major error has happened.')\n",
    "logger.critical('Fatal error. Cannot continue')"
   ]
  },
  {
   "cell_type": "markdown",
   "metadata": {},
   "source": [
    "Besides ‘debug‘, ‘info‘, ‘warning‘, ‘error‘, and ‘critical‘ messages, you can log exceptions that will include any associated __traceback information__.<br>\n",
    "\n",
    "With __logger.exception__, you can log traceback information should the code encounter any error. logger.exception will log the message provided in its arguments as well as the error message traceback info."
   ]
  },
  {
   "cell_type": "code",
   "execution_count": null,
   "metadata": {},
   "outputs": [],
   "source": [
    "#example\n",
    "# Create or get the logger\n",
    "logger = logging.getLogger(__name__)  \n",
    "\n",
    "# set log level\n",
    "logger.setLevel(logging.INFO)\n",
    "\n",
    "def divide(x, y):\n",
    "    try:\n",
    "        out = x / y\n",
    "    except ZeroDivisionError:\n",
    "        logger.exception(\"Division by zero problem\")\n",
    "    else:\n",
    "        return out\n",
    "\n",
    "# Logs\n",
    "logger.error(\"Divide {x} / {y} = {c}\".format(x=10, y=0, c=divide(10,0)))\n",
    "\n",
    "#> ERROR:__main__:Division by zero problem\n",
    "#> Traceback (most recent call last):\n",
    "#>   File \"<ipython-input-16-a010a44fdc0a>\", line 12, in divide\n",
    "#>     out = x / y\n",
    "#> ZeroDivisionError: division by zero\n",
    "#> ERROR:__main__:None"
   ]
  },
  {
   "cell_type": "code",
   "execution_count": null,
   "metadata": {},
   "outputs": [],
   "source": []
  }
 ],
 "metadata": {
  "kernelspec": {
   "display_name": "Python 3",
   "language": "python",
   "name": "python3"
  },
  "language_info": {
   "codemirror_mode": {
    "name": "ipython",
    "version": 3
   },
   "file_extension": ".py",
   "mimetype": "text/x-python",
   "name": "python",
   "nbconvert_exporter": "python",
   "pygments_lexer": "ipython3",
   "version": "3.8.8"
  },
  "vscode": {
   "interpreter": {
    "hash": "cd78fef2128015050713e82ca51c6520b11aee7c9ee8df750520bbbc7384cbaa"
   }
  }
 },
 "nbformat": 4,
 "nbformat_minor": 2
}
