{
 "cells": [
  {
   "cell_type": "markdown",
   "metadata": {},
   "source": [
    "# Pickle\n",
    "\n",
    "Pickle is a mechanism to store variables to disk (and read them later): serialization and deserialization.\n",
    "    \n",
    "> Pickles are not secure: only read (load) pickles that you trust.\n",
    "\n",
    "Compared with JSON, pickles are binary, python specific and supports many different python objects.\n",
    "\n",
    "Main functions:\n",
    "    \n",
    "- dump: serialize (write) variable\n",
    "- load: deserialize (read) variable\n",
    "\n",
    "See: https://docs.python.org/3/library/pickle.html"
   ]
  },
  {
   "cell_type": "code",
   "execution_count": null,
   "metadata": {},
   "outputs": [],
   "source": [
    "import pickle"
   ]
  },
  {
   "cell_type": "markdown",
   "metadata": {},
   "source": [
    "## writing a variable into a pickle"
   ]
  },
  {
   "cell_type": "code",
   "execution_count": null,
   "metadata": {},
   "outputs": [],
   "source": [
    "import datetime\n",
    "\n",
    "myvar2 = {\n",
    "    \"name\" : \"Joost\",\n",
    "    \"shopping\" :  [ \"bananas\", \"beer\" ] ,\n",
    "    \"now\": datetime.datetime.now()\n",
    "}"
   ]
  },
  {
   "cell_type": "code",
   "execution_count": null,
   "metadata": {},
   "outputs": [],
   "source": [
    "# write myH to pickle, wb: binary write\n",
    "file = open('myFirstPickle', 'wb')\n",
    "pickle.dump(myvar2, file)\n",
    "file.close()"
   ]
  },
  {
   "cell_type": "markdown",
   "metadata": {},
   "source": [
    "## reading from a pickle"
   ]
  },
  {
   "cell_type": "code",
   "execution_count": null,
   "metadata": {},
   "outputs": [],
   "source": [
    "# read pickle, rb: binary read\n",
    "file = open('myFirstPickle', 'rb')\n",
    "myvar_copy = pickle.load(file)\n",
    "file.close()\n",
    "print(myvar_copy)\n",
    "print('type of property now:', type(myvar_copy[\"now\"]))"
   ]
  }
 ],
 "metadata": {
  "kernelspec": {
   "display_name": "Python 3",
   "language": "python",
   "name": "python3"
  },
  "language_info": {
   "codemirror_mode": {
    "name": "ipython",
    "version": 3
   },
   "file_extension": ".py",
   "mimetype": "text/x-python",
   "name": "python",
   "nbconvert_exporter": "python",
   "pygments_lexer": "ipython3",
   "version": "3.7.6"
  }
 },
 "nbformat": 4,
 "nbformat_minor": 5
}
