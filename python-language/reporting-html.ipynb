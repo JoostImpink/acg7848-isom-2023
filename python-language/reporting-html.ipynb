{
 "cells": [
  {
   "cell_type": "markdown",
   "id": "a56a933c",
   "metadata": {},
   "source": [
    "# Reporting - HTML\n",
    "\n",
    "We can use HTML templates with Jinja2 to generate reports in HTML format or pdf. While it is possible to create pdfs directly, there are benefits of generating HTML as it is easy to create web pages and web elements (tables, figures) in HTML using templates.\n",
    "\n",
    "See: https://www.justintodata.com/generate-reports-with-python/ and https://realpython.com/primer-on-jinja-templating/\n",
    "            and https://stackoverflow.com/questions/25373154/how-to-iterate-through-a-list-of-dictionaries-in-jinja-template"
   ]
  },
  {
   "cell_type": "code",
   "execution_count": null,
   "id": "cbd51c3d",
   "metadata": {
    "scrolled": true
   },
   "outputs": [],
   "source": [
    "!pip install jinja2"
   ]
  },
  {
   "cell_type": "code",
   "execution_count": 1,
   "id": "b8913961",
   "metadata": {},
   "outputs": [],
   "source": [
    "from jinja2 import Environment, FileSystemLoader\n",
    "import requests"
   ]
  },
  {
   "cell_type": "code",
   "execution_count": 2,
   "id": "928e98b1",
   "metadata": {},
   "outputs": [],
   "source": [
    "# create a template Environment\n",
    "# requires template files to be in a 'templates' folder\n",
    "env = Environment(loader=FileSystemLoader('templates'))"
   ]
  },
  {
   "cell_type": "code",
   "execution_count": 11,
   "id": "7b7b062b",
   "metadata": {},
   "outputs": [],
   "source": [
    "# load the template from the Environment\n",
    "template = env.get_template('reporting-html-template.html')"
   ]
  },
  {
   "cell_type": "code",
   "execution_count": 12,
   "id": "89cb18bf",
   "metadata": {},
   "outputs": [],
   "source": [
    "# get json with trending searches from coinmarketcap.com through their api\n",
    "r = requests.get('https://api.coinmarketcap.com/data-api/v3/topsearch/rank')"
   ]
  },
  {
   "cell_type": "code",
   "execution_count": 13,
   "id": "68d47470",
   "metadata": {},
   "outputs": [],
   "source": [
    "# list of dictonaries; keys are 'slug', 'name', 'priceChange', etc\n",
    "topSearches = r.json()['data']['cryptoTopSearchRanks']"
   ]
  },
  {
   "cell_type": "code",
   "execution_count": 14,
   "id": "3ae3854f",
   "metadata": {},
   "outputs": [],
   "source": [
    "# render the template with variables\n",
    "html = template.render(page_title_text='Trending tokens',\n",
    "                       title_text='Coinmarketcap - Most searched',\n",
    "                       prices_text='Trending',\n",
    "                       tokens=topSearches)\n",
    "\n",
    "# write rendered template to file \n",
    "with open('temp_html_report.html', 'w') as f:\n",
    "    f.write(html)"
   ]
  },
  {
   "cell_type": "markdown",
   "id": "20ee8b27",
   "metadata": {},
   "source": [
    "## Convert to pdf\n",
    "\n",
    "There are several ways to convert a HTML page into a pdf. For example, pdftkit with wkhtmltopdf or weasyprint.\n",
    "\n",
    "See https://towardsdatascience.com/convert-html-to-pdf-using-python-4df78b40de1b\n",
    "    and https://www.justintodata.com/generate-reports-with-python/"
   ]
  },
  {
   "cell_type": "code",
   "execution_count": null,
   "id": "8734b958",
   "metadata": {},
   "outputs": [],
   "source": []
  }
 ],
 "metadata": {
  "kernelspec": {
   "display_name": "Python 3",
   "language": "python",
   "name": "python3"
  },
  "language_info": {
   "codemirror_mode": {
    "name": "ipython",
    "version": 3
   },
   "file_extension": ".py",
   "mimetype": "text/x-python",
   "name": "python",
   "nbconvert_exporter": "python",
   "pygments_lexer": "ipython3",
   "version": "3.8.8"
  }
 },
 "nbformat": 4,
 "nbformat_minor": 5
}
