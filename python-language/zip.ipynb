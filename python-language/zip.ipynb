{
 "cells": [
  {
   "cell_type": "markdown",
   "metadata": {},
   "source": [
    "# Zip Function\n",
    "\n",
    "The zip() function creates an iterator that will aggregate elements from two or more iterables.  <br>\n",
    "\n",
    "__Syntax__: zip(*iterables)<br>\n",
    "It takes in one or more iterables as arguments.<br>"
   ]
  },
  {
   "cell_type": "markdown",
   "metadata": {},
   "source": [
    "The zip() function returns an iterator of tuples based on the iterable objects.<br>\n",
    "- If we do not pass any parameter, zip() returns an empty iterator.\n",
    "- If a single iterable is passed, zip() returns an iterator of tuples with each tuple having only one element.\n",
    "- If multiple iterables are passed, zip() returns an iterator of tuples with each tuple having elements from all the iterables.\n",
    "<br>"
   ]
  },
  {
   "cell_type": "markdown",
   "metadata": {},
   "source": [
    "### Examples"
   ]
  },
  {
   "cell_type": "code",
   "execution_count": null,
   "metadata": {},
   "outputs": [],
   "source": [
    "# two lists (L1 and L2) passed as arguments for zip function\n",
    "L1 = [1,2,3,4,5]\n",
    "L2 = ['a','b','c','d','e']\n",
    "\n",
    "zip_L1L2 = zip(L1,L2)\n",
    "\n",
    "print(zip_L1L2)"
   ]
  },
  {
   "cell_type": "code",
   "execution_count": null,
   "metadata": {},
   "outputs": [],
   "source": [
    "# cast zip object into a list and print\n",
    "print(list(zip_L1L2))"
   ]
  },
  {
   "cell_type": "code",
   "execution_count": null,
   "metadata": {},
   "outputs": [],
   "source": [
    "# If iterables are of different length\n",
    "L1 = [1,2,3,4,5]\n",
    "L2 = ['a','b','c','d']\n",
    "\n",
    "zip_L1L2 = zip(L1,L2)\n",
    "\n",
    "print(list(zip_L1L2))"
   ]
  },
  {
   "cell_type": "code",
   "execution_count": null,
   "metadata": {},
   "outputs": [],
   "source": [
    "# If we pass in one iterable \n",
    "L1 = [1,2,3,4,5]\n",
    "zip_L1 = zip(L1)\n",
    "print(list(zip_L1))"
   ]
  },
  {
   "cell_type": "code",
   "execution_count": null,
   "metadata": {},
   "outputs": [],
   "source": [
    "# no arguments\n",
    "zip_None = zip()\n",
    "print(list(zip_None))"
   ]
  },
  {
   "cell_type": "code",
   "execution_count": null,
   "metadata": {},
   "outputs": [],
   "source": [
    "#another example to zip together 3 lists\n",
    "veggies = [\"tomato\",\"potato\",\"cucumber\",\"peppers\"]\n",
    "price = [3,4.8,5,2.4]\n",
    "quantities = [10,7,1,14]\n",
    "\n",
    "for veggies, price, quantity in zip(veggies,price,quantities):\n",
    "    print(f\"You bought {quantity} {veggies} for ${price*quantity}\")"
   ]
  },
  {
   "cell_type": "code",
   "execution_count": null,
   "metadata": {},
   "outputs": [],
   "source": [
    "# example of zip () dictionary\n",
    "name = ['Anne', 'Ben', 'Claire']\n",
    "number = [4, 32, 12]\n",
    " \n",
    "new_dictionary = {name: number for name, number in zip(name, number)}\n",
    "print(new_dictionary)"
   ]
  },
  {
   "cell_type": "markdown",
   "metadata": {},
   "source": [
    "## The * operator\n",
    "\n",
    "The * operator 'unpacks' the values from an iterable object (such as list or tuples).\n",
    "\n",
    "See: https://towardsdatascience.com/unpacking-operators-in-python-306ae44cd480\n",
    "        "
   ]
  },
  {
   "cell_type": "code",
   "execution_count": null,
   "metadata": {},
   "outputs": [],
   "source": [
    "myList = [1, 2, 3, 4, 5, 6]\n",
    "print('print as list',myList)\n",
    "print('unpack and print',*myList)"
   ]
  },
  {
   "cell_type": "code",
   "execution_count": null,
   "metadata": {},
   "outputs": [],
   "source": [
    "# a and c are assigned first; 'remainder' goes to *b\n",
    "a, *b, c = myList\n",
    "print(b)"
   ]
  },
  {
   "cell_type": "code",
   "execution_count": null,
   "metadata": {},
   "outputs": [],
   "source": [
    "# this doesn't work (because type expects one argument, not three)\n",
    "type(*myList)"
   ]
  },
  {
   "cell_type": "markdown",
   "metadata": {},
   "source": [
    "### Why is this useful? \n",
    "\n",
    "To have flexibility in the number of arguments to be passed to a function. \n",
    "A function can use * with a single argument, and any number of arguments can then be passed.\n",
    "\n",
    "It is common practice to name this argument as `*args`"
   ]
  },
  {
   "cell_type": "code",
   "execution_count": null,
   "metadata": {},
   "outputs": [],
   "source": [
    "def make_tuple(*args):\n",
    "    return args\n",
    "make_tuple(1, 2, 3, 4)"
   ]
  },
  {
   "cell_type": "code",
   "execution_count": null,
   "metadata": {},
   "outputs": [],
   "source": [
    "def make_tuple(first, *args):\n",
    "    print('first:', first)\n",
    "    return args\n",
    "make_tuple(1, 2, 3, 4)"
   ]
  },
  {
   "cell_type": "markdown",
   "metadata": {},
   "source": [
    "### ** kwargs\n",
    "\n",
    "`** kwargs` is for key-value (dictionary) or named arguments"
   ]
  },
  {
   "cell_type": "code",
   "execution_count": null,
   "metadata": {},
   "outputs": [],
   "source": [
    "def make_dict(**kwargs):\n",
    "    return kwargs\n",
    "\n",
    "make_dict(Jane = 'Doe', John = 'Smith')"
   ]
  },
  {
   "cell_type": "markdown",
   "metadata": {},
   "source": [
    "## Unzip"
   ]
  },
  {
   "cell_type": "markdown",
   "metadata": {},
   "source": [
    "In order to unzip, which means converting the zipped values back to the individual self as they were, we use the __“*” operator.__ <br>"
   ]
  },
  {
   "cell_type": "code",
   "execution_count": null,
   "metadata": {},
   "outputs": [],
   "source": [
    "# example\n",
    "coordinate = ['x', 'y', 'z']\n",
    "value = [36, 24, 85]\n",
    "\n",
    "result = zip(coordinate, value)\n",
    "result_list = list(result)\n",
    "print(result_list)\n",
    "\n",
    "c, v =  zip(*result_list)\n",
    "print('c:', c)\n",
    "print('v:', v)"
   ]
  }
 ],
 "metadata": {
  "kernelspec": {
   "display_name": "Python 3",
   "language": "python",
   "name": "python3"
  },
  "language_info": {
   "codemirror_mode": {
    "name": "ipython",
    "version": 3
   },
   "file_extension": ".py",
   "mimetype": "text/x-python",
   "name": "python",
   "nbconvert_exporter": "python",
   "pygments_lexer": "ipython3",
   "version": "3.8.8"
  },
  "vscode": {
   "interpreter": {
    "hash": "cd78fef2128015050713e82ca51c6520b11aee7c9ee8df750520bbbc7384cbaa"
   }
  }
 },
 "nbformat": 4,
 "nbformat_minor": 2
}
