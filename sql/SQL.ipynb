{
 "cells": [
  {
   "cell_type": "markdown",
   "id": "8220b9a8",
   "metadata": {},
   "source": [
    "# Sql"
   ]
  },
  {
   "cell_type": "markdown",
   "id": "73c5e937",
   "metadata": {},
   "source": [
    "### Setup"
   ]
  },
  {
   "cell_type": "code",
   "execution_count": null,
   "id": "c90c107c",
   "metadata": {},
   "outputs": [],
   "source": [
    "import mysql.connector as mysql\n",
    "import pandas as pd\n",
    "\n",
    "# connect to the database using 'connect()' method\n",
    "db = mysql.connect(\n",
    "    host = \"w-util-MySQL.ad.ufl.edu\",\n",
    "    user = \"fsoa_student\",\n",
    "    passwd = \"FSOAStudent!\",\n",
    "    database=\"fsoa_impink\"\n",
    ")\n",
    "# buffered cursor\n",
    "cursor = db.cursor(buffered=True)"
   ]
  },
  {
   "cell_type": "markdown",
   "id": "1e29a3e1",
   "metadata": {},
   "source": [
    "## Main ingredients\n",
    "\n",
    "The main ingredients of a SQL query:\n",
    "    \n",
    "- Select: what to select, can include calculations\n",
    "- From: input table, can be more than one\n",
    "- Where: filter on the input table, also used to specify how to join\n",
    "- Having: filter on the output table \n",
    "- Group By: repeats the 'select' for each partition of unique values of the group by (most used with aggregates)\n",
    "- Order by: sorting\n"
   ]
  },
  {
   "cell_type": "markdown",
   "id": "3696fa80",
   "metadata": {},
   "source": [
    "### Examples"
   ]
  },
  {
   "cell_type": "code",
   "execution_count": null,
   "id": "449f5445",
   "metadata": {},
   "outputs": [],
   "source": [
    "qry ='''\n",
    "select shortname.gvkey, shortname.fyear, shortname.sale \n",
    "from funda shortname\n",
    "where fyear >= 2018  and fyear <= 2022;\n",
    "'''"
   ]
  },
  {
   "cell_type": "code",
   "execution_count": null,
   "id": "0ed27fe7",
   "metadata": {},
   "outputs": [],
   "source": [
    "df = pd.read_sql(qry, db)\n",
    "print('#records', len(df))\n",
    "df.head()"
   ]
  },
  {
   "cell_type": "code",
   "execution_count": null,
   "id": "6750429e",
   "metadata": {},
   "outputs": [],
   "source": [
    "# same as (with one table in the from there is no need for a short name)\n",
    "qry ='''\n",
    "select gvkey, fyear, sale \n",
    "from funda \n",
    "where fyear >= 2018  and fyear <= 2022;\n",
    "'''"
   ]
  },
  {
   "cell_type": "code",
   "execution_count": null,
   "id": "548e3140",
   "metadata": {},
   "outputs": [],
   "source": [
    "df = pd.read_sql(qry, db)\n",
    "print('#records', len(df))"
   ]
  },
  {
   "cell_type": "markdown",
   "id": "9fc250ef",
   "metadata": {},
   "source": [
    "## Aggregate functions\n",
    "\n",
    "As part of the select (and group by) you can do aggregate functions such as min, max, count, avg (average).\n",
    "\n",
    "It is most useful if you use this with group by, otherwise you just get sample aggregates. For example, you probably want to have the mean ROA for each industry-fyear as opposed to a single mean ROA (one number) for the full sample."
   ]
  },
  {
   "cell_type": "code",
   "execution_count": null,
   "id": "b3d019b2",
   "metadata": {},
   "outputs": [],
   "source": [
    "qry ='''\n",
    "select avg (ni/at) as at_avg, avg (ni/sale) as roa_median\n",
    "from funda \n",
    "where fyear >= 2018  and fyear <= 2022;\n",
    "'''"
   ]
  },
  {
   "cell_type": "code",
   "execution_count": null,
   "id": "f805c9f6",
   "metadata": {},
   "outputs": [],
   "source": [
    "df = pd.read_sql(qry, db)\n",
    "print('#records', len(df))\n",
    "df.head()"
   ]
  },
  {
   "cell_type": "markdown",
   "id": "99b18675",
   "metadata": {},
   "source": [
    "### Group by\n",
    "\n",
    "Repeat the 'select' for each group; works well with aggregate functions. Counting the observations by year, calculating the average ROA by industry-year, etc."
   ]
  },
  {
   "cell_type": "code",
   "execution_count": null,
   "id": "a5e78d49",
   "metadata": {},
   "outputs": [],
   "source": [
    "qry ='''\n",
    "select sich, fyear, count(*) as numObs\n",
    "from funda \n",
    "where fyear >= 2018  and fyear <= 2022\n",
    "and sich is not null\n",
    "group by sich, fyear\n",
    ";\n",
    "'''\n",
    "df = pd.read_sql(qry, db)\n",
    "print('#records', len(df))\n",
    "df.head()"
   ]
  },
  {
   "cell_type": "code",
   "execution_count": null,
   "id": "8e3f2895",
   "metadata": {},
   "outputs": [],
   "source": [
    "qry ='''\n",
    "select sich, fyear, avg(ni/at) as roa_avg\n",
    "from funda \n",
    "where fyear >= 2018  and fyear <= 2022\n",
    "and sich is not null\n",
    "group by sich, fyear\n",
    ";\n",
    "'''\n",
    "df = pd.read_sql(qry, db)\n",
    "print('#records', len(df))\n",
    "df.head()"
   ]
  },
  {
   "cell_type": "markdown",
   "id": "b1b8ea95",
   "metadata": {},
   "source": [
    "## `IN`, `NOT IN`\n",
    "\n",
    "Use `IN` to select values from a list. You can actually bring the values from a dataframe.\n",
    "Make sure to comma delimited them, and quote text. \n",
    "\n",
    "Use `NOT IN` to exclude observations with a value from the list.\n"
   ]
  },
  {
   "cell_type": "code",
   "execution_count": null,
   "id": "44fd4c3f",
   "metadata": {},
   "outputs": [],
   "source": [
    "# set forces unique values, list turns it into a list again\n",
    "yrs = list(set(list(df['fyear'])))\n",
    "yrs"
   ]
  },
  {
   "cell_type": "code",
   "execution_count": null,
   "id": "e1e06b43",
   "metadata": {},
   "outputs": [],
   "source": [
    "yrs_commas = \",\".join([str(item) for item in yrs])\n",
    "yrs_commas"
   ]
  },
  {
   "cell_type": "code",
   "execution_count": null,
   "id": "d6f66bbd",
   "metadata": {},
   "outputs": [],
   "source": [
    "qry ='''\n",
    "select sich, fyear, avg(ni/at) as roa_avg\n",
    "from funda \n",
    "where fyear in ({})\n",
    "and sich is not null\n",
    "group by sich, fyear\n",
    ";\n",
    "'''.format ( yrs_commas)"
   ]
  },
  {
   "cell_type": "code",
   "execution_count": null,
   "id": "5502026e",
   "metadata": {},
   "outputs": [],
   "source": [
    "print(qry)"
   ]
  },
  {
   "cell_type": "code",
   "execution_count": null,
   "id": "3e11663f",
   "metadata": {},
   "outputs": [],
   "source": [
    "df = pd.read_sql(qry, db)\n",
    "print('#records', len(df))\n",
    "df.head()"
   ]
  },
  {
   "cell_type": "markdown",
   "id": "89af5b87",
   "metadata": {},
   "source": [
    "## `distinct` keyword\n",
    "\n",
    "Distinct is used to get unique records. For example, the list of gvkey-years in funda"
   ]
  },
  {
   "cell_type": "code",
   "execution_count": null,
   "id": "ecb3d161",
   "metadata": {},
   "outputs": [],
   "source": [
    "qry ='''\n",
    "select distinct gvkey, fyear\n",
    "from funda \n",
    "'''\n",
    "df = pd.read_sql(qry, db)\n",
    "print('#records', len(df))\n",
    "df.head()"
   ]
  },
  {
   "cell_type": "markdown",
   "id": "0aff7def",
   "metadata": {},
   "source": [
    "## `limit` keyword\n",
    "\n",
    "The limit keyword is to limited the number of records."
   ]
  },
  {
   "cell_type": "code",
   "execution_count": null,
   "id": "72c9e58f",
   "metadata": {},
   "outputs": [],
   "source": [
    "qry ='''\n",
    "select distinct gvkey, fyear\n",
    "from funda \n",
    "limit 3\n",
    "'''\n",
    "df = pd.read_sql(qry, db)\n",
    "print('#records', len(df))\n",
    "df.head()"
   ]
  },
  {
   "cell_type": "markdown",
   "id": "a5f68aec",
   "metadata": {},
   "source": [
    "## Joins"
   ]
  },
  {
   "cell_type": "markdown",
   "id": "6d9492f5",
   "metadata": {},
   "source": [
    "### Inner join"
   ]
  },
  {
   "cell_type": "code",
   "execution_count": null,
   "id": "d68bab08",
   "metadata": {},
   "outputs": [],
   "source": [
    "qry = '''\n",
    "select a.gvkey, a.datadate, a.fyear, a.sale, a.at, a.ni, b.lpermno as permno\n",
    "from funda a, ccmxpf_linktable b\n",
    "where a.fyear >= 1961 and a.fyear <=1999\n",
    "and a.gvkey = b.gvkey\n",
    "and b.linktype in (\"LC\", \"LN\", \"LU\", \"LX\", \"LD\", \"LS\")\n",
    "and b.linkprim in (\"C\", \"P\")  \n",
    "and a.datadate > b.linkdt and a.datadate <= linkenddt\n",
    "and b.lpermno is not null\n",
    ";\n",
    "'''\n",
    "df = pd.read_sql(qry, db)\n",
    "print('#records', len(df))\n",
    "df.head()"
   ]
  },
  {
   "cell_type": "markdown",
   "id": "fc1a0c08",
   "metadata": {},
   "source": [
    "### Left join\n",
    "\n",
    "With a left join, a `left join` is added after the first table and `where` becomes `on`"
   ]
  },
  {
   "cell_type": "code",
   "execution_count": null,
   "id": "a4f31dec",
   "metadata": {},
   "outputs": [],
   "source": [
    "qry = '''\n",
    "select a.gvkey, a.datadate, a.fyear, a.sale, a.at, a.ni, b.lpermno as permno\n",
    "from funda a left join ccmxpf_linktable b\n",
    "on a.fyear >= 1961 and a.fyear <=1999\n",
    "and a.gvkey = b.gvkey\n",
    "and b.linktype in (\"LC\", \"LN\", \"LU\", \"LX\", \"LD\", \"LS\")\n",
    "and b.linkprim in (\"C\", \"P\")  \n",
    "and a.datadate > b.linkdt and a.datadate <= linkenddt\n",
    "and b.lpermno is not null\n",
    ";\n",
    "'''\n",
    "df = pd.read_sql(qry, db)\n",
    "print('#records', len(df))\n",
    "df.head()"
   ]
  },
  {
   "cell_type": "markdown",
   "id": "b025d913",
   "metadata": {},
   "source": [
    "## Self join\n",
    "\n",
    "In a self join, the sample table is on the left and right. It is a great way to get lagged values."
   ]
  },
  {
   "cell_type": "code",
   "execution_count": null,
   "id": "f2b4b9e9",
   "metadata": {},
   "outputs": [],
   "source": [
    "qry = '''\n",
    "select a.gvkey, a.datadate, a.fyear, a.sale, b.sale as sale_prev, a.sale /b.sale -1 as sale_growth\n",
    "from funda a, funda b\n",
    "where a.fyear >= 1961 and a.fyear <=1999\n",
    "and a.gvkey = b.gvkey\n",
    "and a.fyear - 1 = b.fyear;\n",
    "'''\n",
    "df = pd.read_sql(qry, db)\n",
    "print('#records', len(df))\n",
    "df.head()"
   ]
  },
  {
   "cell_type": "markdown",
   "id": "a80cf38e",
   "metadata": {},
   "source": [
    "## Subqueries\n",
    "\n",
    "Instead of a `from tablename`, you can write the tablename as a query.\n",
    "Also the `IN` can be followed by a query (selecting one variable only though)"
   ]
  },
  {
   "cell_type": "markdown",
   "id": "e10dd0d9",
   "metadata": {},
   "source": [
    "In the next example, Funda is joined with the linktable but using a different date (boy, 12 months before end of year).\n",
    "\n",
    "Note how the subquery is labelled as `a`, and that `a.boy` is used in the filter to merge with `b`."
   ]
  },
  {
   "cell_type": "code",
   "execution_count": null,
   "id": "fe560795",
   "metadata": {},
   "outputs": [],
   "source": [
    "qry = '''\n",
    "select a.* , b.*\n",
    "        from (\n",
    "        select gvkey, datadate, fyear, epspi, (epspi < 0) as loss, date_add(datadate,  INTERVAL -12 MONTH) as boy,\n",
    "        date_add(datadate, INTERVAL 4 MONTH) as eoy\n",
    "            from funda \n",
    "            where 1961 <= fyear\n",
    "            and fyear >= 1990\n",
    "            limit 1000        \n",
    "        ) a\n",
    "        left join ccmxpf_linktable b\n",
    "        on a.gvkey = b.gvkey\n",
    "        and b.linktype in (\"LC\", \"LN\", \"LU\", \"LX\", \"LD\", \"LS\")\n",
    "        and b.linkprim in (\"C\", \"P\")  \n",
    "        and b.LINKDT <= a.boy \n",
    "        and a.boy <= b.LINKENDDT\n",
    "        and b.lpermno IS NOT NULL\n",
    "        ;\n",
    "'''\n",
    "df = pd.read_sql(qry, db)\n",
    "print('#records', len(df))\n",
    "df.head()"
   ]
  },
  {
   "cell_type": "code",
   "execution_count": null,
   "id": "13a895a6",
   "metadata": {},
   "outputs": [],
   "source": []
  }
 ],
 "metadata": {
  "kernelspec": {
   "display_name": "Python 3",
   "language": "python",
   "name": "python3"
  },
  "language_info": {
   "codemirror_mode": {
    "name": "ipython",
    "version": 3
   },
   "file_extension": ".py",
   "mimetype": "text/x-python",
   "name": "python",
   "nbconvert_exporter": "python",
   "pygments_lexer": "ipython3",
   "version": "3.8.8"
  }
 },
 "nbformat": 4,
 "nbformat_minor": 5
}
