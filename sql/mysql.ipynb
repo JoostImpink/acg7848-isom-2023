{
 "cells": [
  {
   "cell_type": "markdown",
   "id": "052ad421",
   "metadata": {},
   "source": [
    "# Pandas-Mysql"
   ]
  },
  {
   "cell_type": "markdown",
   "id": "c2a2f3e6",
   "metadata": {},
   "source": [
    "### Install mysql-connector (run once) \n",
    "\n",
    "Restart the kernel (Kernel, Restart) so that it becomes available for importing"
   ]
  },
  {
   "cell_type": "code",
   "execution_count": null,
   "id": "7551af6a",
   "metadata": {},
   "outputs": [],
   "source": [
    "!pip3 install mysql-connector"
   ]
  },
  {
   "cell_type": "markdown",
   "id": "c093e8f0",
   "metadata": {},
   "source": [
    "### Make a connection with the mysql server"
   ]
  },
  {
   "cell_type": "code",
   "execution_count": null,
   "id": "aacfa3b4",
   "metadata": {},
   "outputs": [],
   "source": [
    "import mysql.connector as mysql\n",
    "\n",
    "# connect to the database using 'connect()' method\n",
    "db = mysql.connect(\n",
    "    host = \"w-util-MySQL.ad.ufl.edu\",\n",
    "    user = \"fsoa_student\",\n",
    "    passwd = \"FSOAStudent!\",\n",
    "    database=\"fsoa_impink\"\n",
    ")\n",
    "\n",
    "# print db variable\n",
    "db"
   ]
  },
  {
   "cell_type": "markdown",
   "id": "0e3de816",
   "metadata": {},
   "source": [
    "## Cursor\n",
    "\n",
    "A 'cursor' allows you to communicate with the mysql database"
   ]
  },
  {
   "cell_type": "code",
   "execution_count": null,
   "id": "c55807e3",
   "metadata": {},
   "outputs": [],
   "source": [
    "# get a cursor\n",
    "cursor=db.cursor()\n",
    "\n",
    "cursor"
   ]
  },
  {
   "cell_type": "markdown",
   "id": "d0215636",
   "metadata": {},
   "source": [
    "### Main cursor methods\n",
    "\n",
    "- execute: run a query\n",
    "- fetchone: default method, get one record at the time\n",
    "- fetchall: get all records\n",
    "    \n",
    "See: https://dev.mysql.com/doc/connector-python/en/ and \n",
    "        https://www.tutorialspoint.com/python_data_access/python_mysql_cursor_object.htm"
   ]
  },
  {
   "cell_type": "markdown",
   "id": "b1812097",
   "metadata": {},
   "source": [
    "### 'InternalError: Unread result found.'\n",
    "\n",
    "If you run into an 'unread result found' error, you can prevent this by using a 'buffered' cursor.\n",
    "    \n",
    "### Buffered Cursor\n",
    "\n",
    "The reason is that without a buffered cursor, the results are \"lazily\" loaded, meaning that \"fetchone\" actually only fetches one row from the full result set of the query. When you will use the same cursor again, it will complain that you still have n-1 results (where n is the result set amount) waiting to be fetched. However, when you use a buffered cursor the connector fetches ALL rows behind the scenes and you just take one from the connector so the mysql db won't complain.\n",
    "\n",
    "https://stackoverflow.com/questions/29772337/python-mysql-connector-unread-result-found-when-using-fetchone\n",
    "\n",
    "https://dev.mysql.com/doc/connector-python/en/connector-python-tutorial-cursorbuffered.html"
   ]
  },
  {
   "cell_type": "code",
   "execution_count": null,
   "id": "b5447f42",
   "metadata": {},
   "outputs": [],
   "source": [
    "# buffered cursor\n",
    "cursor = db.cursor(buffered=True)"
   ]
  },
  {
   "cell_type": "code",
   "execution_count": null,
   "id": "f973cec1",
   "metadata": {},
   "outputs": [],
   "source": [
    "# run a query to get table names\n",
    "cursor.execute(\"SHOW TABLES\")"
   ]
  },
  {
   "cell_type": "code",
   "execution_count": null,
   "id": "2cf0be86",
   "metadata": {},
   "outputs": [],
   "source": [
    "# iterate through results\n",
    "for table_name in cursor:\n",
    "    print(table_name)"
   ]
  },
  {
   "cell_type": "code",
   "execution_count": null,
   "id": "170d500c",
   "metadata": {},
   "outputs": [],
   "source": [
    "# rerun query and get all results in one go\n",
    "# this returns a list of tuples\n",
    "cursor.execute(\"SHOW TABLES\")\n",
    "r = cursor.fetchall()\n",
    "print('result', r)\n",
    "print('type of result', type(r), 'each item containing a', type(r[0]))"
   ]
  },
  {
   "cell_type": "markdown",
   "id": "9172a275",
   "metadata": {},
   "source": [
    "### Loading results into a pandas dataframe"
   ]
  },
  {
   "cell_type": "code",
   "execution_count": null,
   "id": "23ab56be",
   "metadata": {},
   "outputs": [],
   "source": [
    "import pandas as pd\n",
    "df = pd.read_sql(\"SHOW TABLES\", db)\n",
    "df"
   ]
  },
  {
   "cell_type": "markdown",
   "id": "4b8ca615",
   "metadata": {},
   "source": [
    "### Example\n",
    "\n",
    "From Compustat Fundamental Annual (funda), get the following variables:\n",
    "    \n",
    "- gvkey: firm identifier\n",
    "- datadate: end of fiscal year, rounded (date)\n",
    "- fyear: fiscal year (number)\n",
    "- sich: 4 digit industry code (SIC)\n",
    "- sale: sales\n",
    "- ni: net income\n",
    "- epspi: earnings per share\n",
    "- at: assets\n",
    "- prcc_f: end of year stock price\n",
    "- ceq: book value of equity\n",
    "- csho: number of shares outstanding\n",
    "- emp: number of employees"
   ]
  },
  {
   "cell_type": "code",
   "execution_count": null,
   "id": "d228f286",
   "metadata": {},
   "outputs": [],
   "source": [
    "qry = '''\n",
    "select gvkey, datadate, fyear, sich, sale, ni, epspi, at, prcc_f, ceq, csho, emp\n",
    "from funda \n",
    "where \n",
    "    at > 0 \n",
    "    and fyear >= 2013 \n",
    "    and fyear <= 2022; \n",
    "'''"
   ]
  },
  {
   "cell_type": "code",
   "execution_count": null,
   "id": "494811b6",
   "metadata": {},
   "outputs": [],
   "source": [
    "df_funda = pd.read_sql(qry, db)\n",
    "len(df_funda)"
   ]
  },
  {
   "cell_type": "code",
   "execution_count": null,
   "id": "9f9d3690",
   "metadata": {},
   "outputs": [],
   "source": [
    "df_funda.head()"
   ]
  },
  {
   "cell_type": "code",
   "execution_count": null,
   "id": "d9acddca",
   "metadata": {},
   "outputs": [],
   "source": [
    "df_funda.info()"
   ]
  },
  {
   "cell_type": "code",
   "execution_count": null,
   "id": "33ab0435",
   "metadata": {},
   "outputs": [],
   "source": []
  }
 ],
 "metadata": {
  "kernelspec": {
   "display_name": "Python 3",
   "language": "python",
   "name": "python3"
  },
  "language_info": {
   "codemirror_mode": {
    "name": "ipython",
    "version": 3
   },
   "file_extension": ".py",
   "mimetype": "text/x-python",
   "name": "python",
   "nbconvert_exporter": "python",
   "pygments_lexer": "ipython3",
   "version": "3.8.8"
  }
 },
 "nbformat": 4,
 "nbformat_minor": 5
}
