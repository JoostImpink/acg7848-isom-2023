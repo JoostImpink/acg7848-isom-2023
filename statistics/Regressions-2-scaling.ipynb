{
 "cells": [
  {
   "cell_type": "markdown",
   "id": "e0199aeb",
   "metadata": {},
   "source": [
    "# Regressions - Scaling\n",
    "\n",
    "## Heteroscedasticity\n",
    "\n",
    "One of the problems of heteroscedasticity is that you may get significant results for variables that are driven by scale.\n",
    "\n",
    "Let's run a regression where we run market value on the number of employees:\n"
   ]
  },
  {
   "cell_type": "code",
   "execution_count": null,
   "id": "8703b640",
   "metadata": {},
   "outputs": [],
   "source": [
    "import pandas as pd\n",
    "import numpy as np\n",
    "from scipy.stats import mstats # for winsorize\n",
    "import statsmodels.formula.api as smf # for OLS\n",
    "\n",
    "df = pd.read_excel(r'..\\datasets\\Compustat-Funda.xlsx')"
   ]
  },
  {
   "cell_type": "code",
   "execution_count": null,
   "id": "041b7f41",
   "metadata": {},
   "outputs": [],
   "source": [
    "# filter: only keep if positive price, equity, assets and csho (number of shares outstanding)\n",
    "df = df[ ( df['prcc_f'] > 0) & ( df['ceq'] > 0) & ( df['at'] > 0) & (df['csho'] > 0 ) ]\n",
    "\n",
    "# add mtb, roa and size\n",
    "df['mtb'] = df['prcc_f'] * df['csho'] / df['ceq']\n",
    "df['roa'] = df['ni'] / df['at']\n",
    "df['size'] = np.log ( df['prcc_f'] * df['csho'] )\n",
    "\n",
    "# drop if any of these have missing values\n",
    "df = df.dropna(subset=['mtb', 'roa', 'size'])\n",
    "df.head()"
   ]
  },
  {
   "cell_type": "code",
   "execution_count": null,
   "id": "e5562d16",
   "metadata": {},
   "outputs": [],
   "source": [
    "# add winsorized variables to dataframe\n",
    "df['mtb_w'] = mstats.winsorize(df['mtb'], limits=[0.01, 0.01]).data\n",
    "df['roa_w'] = mstats.winsorize(df['roa'], limits=[0.01, 0.01]).data\n",
    "df['size_w'] = mstats.winsorize(df['size'], limits=[0.01, 0.01]).data"
   ]
  },
  {
   "cell_type": "code",
   "execution_count": null,
   "id": "ce7fb4b2",
   "metadata": {},
   "outputs": [],
   "source": [
    "# regression\n",
    "lm = smf.ols(\"size_w ~ emp \", data=df).fit() \n",
    "print(str(lm.summary()))"
   ]
  },
  {
   "cell_type": "markdown",
   "id": "5377ada3",
   "metadata": {},
   "source": [
    "## Choice of scalar\n",
    "\n",
    "To deal with size effects driving regression results you need to select an appropriate scalar."
   ]
  },
  {
   "cell_type": "markdown",
   "id": "98ffe8e5",
   "metadata": {},
   "source": [
    "## Example: Earnings management\n",
    "\n",
    "From 'Earnings management to avoid earnings decreases and losses' (Burgstahler and Dichev, 1997):"
   ]
  },
  {
   "cell_type": "code",
   "execution_count": null,
   "id": "ab8f6036",
   "metadata": {},
   "outputs": [],
   "source": [
    "from IPython.display import Image\n",
    "Image(\"images/scaling - burgstahler.png\")"
   ]
  },
  {
   "cell_type": "markdown",
   "id": "0dc880ac",
   "metadata": {},
   "source": [
    "The variable displayed is earnings per share scaled by stock price. The discontinuity around 0 is often mentioned as evidence that managers manage earnings to avoid losses.\n",
    "\n",
    "From Durtschi and Easton (Earnings Management? The Shapes of the Frequency Distributions of Earnings Metrics Are Not Evidence Ipso Facto):"
   ]
  },
  {
   "cell_type": "code",
   "execution_count": null,
   "id": "333d72ca",
   "metadata": {},
   "outputs": [],
   "source": [
    "Image(\"images/scaling - durtschi.png\")"
   ]
  },
  {
   "cell_type": "markdown",
   "id": "1c92354d",
   "metadata": {},
   "source": [
    "The above figure shows earnings per share unscaled; it does not have the same discontinuity around 0 (it does show some 'spikes' around 0.10, 0.20, 0.30 suggesting that managers prefer to manage up to round numbers)."
   ]
  },
  {
   "cell_type": "code",
   "execution_count": null,
   "id": "449ebab5",
   "metadata": {},
   "outputs": [],
   "source": [
    "Image(\"images/scaling - durtschi2.png\")"
   ]
  },
  {
   "cell_type": "markdown",
   "id": "b9848918",
   "metadata": {},
   "source": [
    "The authors show that stock price is correlated with the sign of earnings: firms that have losses often have a low stock price, firms with profits tend to have a higher stock price. For the eps/p graph this means that data points on the 'loss' side (left side of y-axis) are pushed to the left (dividing by small price makes eps/p become more negative). Profits get scaled by a larger price, pushing these observations against the y-axis.\n",
    "\n",
    "> The purpose of Durtchi and Easton is to highlight the importance of scaling, not to argue earnings management does not exist.\n"
   ]
  },
  {
   "cell_type": "markdown",
   "id": "0723d41c",
   "metadata": {},
   "source": [
    "## Other issues with scaling\n",
    "\n",
    "Suppose you have the following regression: `Y = a + bX + cZ + e`, but both 'Y' and 'Z' are correlated with size ('S').\n",
    "That means there is likely hetoroscedasticity issues (larger values for Y and Z give larger errors). \n",
    "\n",
    "So, it looks like Y and Z need to be scaled: `Y/S = a + bX + cZ/S + e`\n",
    "    \n",
    "Scaling can solve heteroscedasticity problems, but can also introduce new problems (a 'catch-22').\n",
    "\n",
    "## Example\n",
    "\n",
    "Using the dataset constructed earlier, let's add a random variable R. Let's say R is something that a researcher collected, and the researcher is planning to write a paper on the relation between R and firm size.\n",
    "\n",
    "\"Hypothesis 1: Firm size is negatively correlated with 'whatever' (measured by a random number)\""
   ]
  },
  {
   "cell_type": "code",
   "execution_count": null,
   "id": "7e704c0c",
   "metadata": {},
   "outputs": [],
   "source": [
    "# df.shape[0] is the number of rows in the dataframe df\n",
    "# np.rand.rand( df.shape[0 ]) returns a column with random numbers\n",
    "df['R'] = np.random.rand( df.shape[0], 1) \n",
    "df['R_P'] = df['R'] / df['prcc_f']\n",
    "df[['prcc_f','R', 'R_P']].describe()"
   ]
  },
  {
   "cell_type": "markdown",
   "id": "a082ad2e",
   "metadata": {},
   "source": [
    "### Testing the hypothesis\n",
    "\n",
    "Let's run this regression:\n",
    "\n",
    "`R/P = a + b Marketcap + e`\n",
    "\n",
    "Where 'R/P' is the random variable R scaled by stock price and Size is market cap.\n",
    "\n",
    "If the dependent (Y) and independent variable (Z) are both scaled by S (for example sales, stock price or market cap), the c may be significant even though Z and Y may not be related. In this example, the independent variable (marketcap) is not scaled. Nonetheless, the same issue can exist (because the dependent variable is scaled). \n"
   ]
  },
  {
   "cell_type": "markdown",
   "id": "f625d8a8",
   "metadata": {},
   "source": [
    "### Dependent variable: R/P"
   ]
  },
  {
   "cell_type": "markdown",
   "id": "19c67e0e",
   "metadata": {},
   "source": [
    "'R' is scaled by stock price (the researcher could also have scaled by assets, equity, the length of the annual report, etc)."
   ]
  },
  {
   "cell_type": "code",
   "execution_count": null,
   "id": "683ab2e9",
   "metadata": {},
   "outputs": [],
   "source": [
    "# regression\n",
    "lm = smf.ols(\"R_P ~ size \", data=df).fit() \n",
    "print(str(lm.summary()))"
   ]
  },
  {
   "cell_type": "markdown",
   "id": "a085fa09",
   "metadata": {},
   "source": [
    "### Test for a relation with the scalar only"
   ]
  },
  {
   "cell_type": "markdown",
   "id": "877ba0c4",
   "metadata": {},
   "source": [
    "To see if spurious results as a result of scaling is an issue (or the extent of the issue), you can regress 1 scaled by stock price as the dependent variable. The coefficient b will show the bias because of scaling:\n",
    "    \n",
    "`1 / P = a + b Marketcap + e`"
   ]
  },
  {
   "cell_type": "markdown",
   "id": "b9194530",
   "metadata": {},
   "source": [
    "### Dependent variable: 1/P"
   ]
  },
  {
   "cell_type": "code",
   "execution_count": null,
   "id": "55a27dab",
   "metadata": {},
   "outputs": [],
   "source": [
    "# one divided by stock price (just the inverse of the scalar)\n",
    "df['one_P'] = 1 / df['prcc_f']\n",
    "# regression\n",
    "lm = smf.ols(\"one_P ~ size \", data=df).fit() \n",
    "print(str(lm.summary()))"
   ]
  },
  {
   "cell_type": "markdown",
   "id": "3a9ddc10",
   "metadata": {},
   "source": [
    "### Dependent variable: R"
   ]
  },
  {
   "cell_type": "code",
   "execution_count": null,
   "id": "e42f84a8",
   "metadata": {},
   "outputs": [],
   "source": [
    "# regression\n",
    "lm = smf.ols(\"R ~ size \", data=df).fit() \n",
    "print(str(lm.summary()))"
   ]
  },
  {
   "cell_type": "markdown",
   "id": "2cc1b358",
   "metadata": {},
   "source": [
    "#### Rule of thumb\n",
    "\n",
    "If the dependent variable is scaled, the coefficients in the model can reflect both the relations with the numerator, and the denominator. Any correlation with the denominator will bias (positive or negative) the coefficient.\n",
    "    "
   ]
  },
  {
   "cell_type": "code",
   "execution_count": null,
   "id": "0fb9f1af",
   "metadata": {},
   "outputs": [],
   "source": []
  }
 ],
 "metadata": {
  "kernelspec": {
   "display_name": "Python 3",
   "language": "python",
   "name": "python3"
  },
  "language_info": {
   "codemirror_mode": {
    "name": "ipython",
    "version": 3
   },
   "file_extension": ".py",
   "mimetype": "text/x-python",
   "name": "python",
   "nbconvert_exporter": "python",
   "pygments_lexer": "ipython3",
   "version": "3.8.8"
  }
 },
 "nbformat": 4,
 "nbformat_minor": 5
}
