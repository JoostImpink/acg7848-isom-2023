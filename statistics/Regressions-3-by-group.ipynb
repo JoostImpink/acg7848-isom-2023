{
 "cells": [
  {
   "cell_type": "markdown",
   "id": "5fa67844",
   "metadata": {},
   "source": [
    "# Linear Regression by group\n",
    "\n",
    "For performing linear regression by group, groupby fuction of the dataframe is used. First, the data is segregatted into groups and is passed into another function where the regression is performed. The regression function is same way we need for a normal dataset. (Either linearRegression or statsmodels.api can be used for regression as shown in the below example)\n",
    "\n",
    "- https://devpress.csdn.net/python/63045aeb7e6682346619a6c4.html\n",
    "- https://stackoverflow.com/questions/49895000/regression-by-group-in-python-pandas"
   ]
  },
  {
   "cell_type": "code",
   "execution_count": null,
   "id": "b8fea052",
   "metadata": {},
   "outputs": [],
   "source": [
    "import pandas as pd\n",
    "import numpy as np\n",
    "from sklearn.linear_model import LinearRegression\n",
    "import statsmodels.api as sm "
   ]
  },
  {
   "cell_type": "code",
   "execution_count": null,
   "id": "207efc15",
   "metadata": {},
   "outputs": [],
   "source": [
    "data = [[1,10,6],[1,5,4],[1,3,1],[1,13,20],[1,8,14],[1,7,1],[1,16,19],[1,22,13],\n",
    "        [2,4,6],[2,2,4],[2,3,9],[2,9,19],[2,13,6],[2,12,9],[2,7,3],[2,25,18]]\n",
    "dataset = pd.DataFrame(data, columns=['Group','Y','X'])"
   ]
  },
  {
   "cell_type": "code",
   "execution_count": null,
   "id": "2245633e",
   "metadata": {},
   "outputs": [],
   "source": [
    "dataset"
   ]
  },
  {
   "cell_type": "code",
   "execution_count": null,
   "id": "e060e814",
   "metadata": {},
   "outputs": [],
   "source": [
    "# function that performs a regression\n",
    "# data: dataframe (for a group or full sample)\n",
    "# yvar: dependent variable (variable name as string)\n",
    "# xvars: independent variables (list of strings)\n",
    "# this function prints some output and returns the params\n",
    "# most likely you probably don't want the printed output and \n",
    "# return more than just the coefficients\n",
    "def regress(data, yvar, xvars):\n",
    "    Y = data[yvar]\n",
    "    X = data[xvars]\n",
    "    X['intercept'] = 1.\n",
    "    lr = LinearRegression()\n",
    "    model = lr.fit(X, Y)\n",
    "    print('Intercept:', model.intercept_)\n",
    "    print('Coefficients:', model.coef_)\n",
    "    result = sm.OLS(Y, X).fit()\n",
    "    print(result.summary())\n",
    "    return (result.params)"
   ]
  },
  {
   "cell_type": "code",
   "execution_count": null,
   "id": "6ff5a588",
   "metadata": {},
   "outputs": [],
   "source": [
    "# for whole sample\n",
    "params = regress(dataset, 'Y', ['X'] )"
   ]
  },
  {
   "cell_type": "code",
   "execution_count": null,
   "id": "3efaea29",
   "metadata": {},
   "outputs": [],
   "source": [
    "print(params)"
   ]
  },
  {
   "cell_type": "code",
   "execution_count": null,
   "id": "64829817",
   "metadata": {},
   "outputs": [],
   "source": [
    "# repeat the regression by each group ('Group') \n",
    "params_group = dataset.groupby('Group').apply(regress, 'Y', ['X'])"
   ]
  },
  {
   "cell_type": "code",
   "execution_count": null,
   "id": "7f574bc1",
   "metadata": {},
   "outputs": [],
   "source": [
    "print(params_group)"
   ]
  },
  {
   "cell_type": "code",
   "execution_count": null,
   "id": "7ff183b5",
   "metadata": {},
   "outputs": [],
   "source": []
  }
 ],
 "metadata": {
  "kernelspec": {
   "display_name": "Python 3",
   "language": "python",
   "name": "python3"
  },
  "language_info": {
   "codemirror_mode": {
    "name": "ipython",
    "version": 3
   },
   "file_extension": ".py",
   "mimetype": "text/x-python",
   "name": "python",
   "nbconvert_exporter": "python",
   "pygments_lexer": "ipython3",
   "version": "3.8.8"
  }
 },
 "nbformat": 4,
 "nbformat_minor": 5
}
