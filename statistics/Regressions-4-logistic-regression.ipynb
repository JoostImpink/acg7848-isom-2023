{
 "cells": [
  {
   "cell_type": "markdown",
   "id": "c817738c",
   "metadata": {},
   "source": [
    "# Logistic Regression\n",
    "\n",
    "Logistic regression is a statistical analysis method to predict a binary outcome, such as yes or no, based on prior observations of a data set. It is used when the dependent variable(target) is categorical. Just like Linear regression assumes that the data follows a linear function, Logistic regression models the data using the sigmoid function.\n",
    "\n",
    "Logistic Regression is classified into 3 types based on number of categories:\n",
    "\n",
    "- __Binary Logistic Regression__ : The categorical response has only two 2 possible outcomes.\n",
    "- __Multinomial Logistic Regression__: Three or more categories without ordering. Example: Predicting which food is preferred more (Veg, Non-Veg, Vegan)\n",
    "- __Ordinal Logistic Regression__: Three or more categories with ordering. Example: Movie rating from 1 to 5\n",
    "\n",
    "Below logistic regression is performed on 'restatements' dataset.\n",
    "Features - fyear, roa, size, mtb, sic2; \n",
    "Dependent variable - restatement\n",
    "\n",
    "__Reference__\n",
    "\n",
    "- https://towardsdatascience.com/logistic-regression-detailed-overview-46c4da4303bc\n",
    "- https://www.geeksforgeeks.org/understanding-logistic-regression/\n",
    "- https://towardsdatascience.com/building-a-logistic-regression-in-python-step-by-step-becd4d56c9c8"
   ]
  },
  {
   "cell_type": "code",
   "execution_count": null,
   "id": "8b0b0fe1",
   "metadata": {},
   "outputs": [],
   "source": [
    "import numpy as np\n",
    "import pandas as pd\n",
    "import matplotlib.pyplot as plt"
   ]
  },
  {
   "cell_type": "code",
   "execution_count": null,
   "id": "ce1306dc",
   "metadata": {},
   "outputs": [],
   "source": [
    "# read dataset\n",
    "dataset = pd.read_excel(r'..\\datasets\\restatements.xlsx')\n",
    "dataset.head()"
   ]
  },
  {
   "cell_type": "markdown",
   "id": "e91884ce",
   "metadata": {},
   "source": [
    "### Dependent variable\n",
    "\n",
    "The dependent variable is an indicator variable that is 1 if the financial statement for that year is later on restated, 0 otherwise.\n",
    "A restatement means fixing an error (can be an intentional error but doesn't have to be)."
   ]
  },
  {
   "cell_type": "code",
   "execution_count": null,
   "id": "0c568a9f",
   "metadata": {},
   "outputs": [],
   "source": [
    "# restatements are somewhat scarce (4% of the bos)\n",
    "dataset[['restatement']].value_counts()"
   ]
  },
  {
   "cell_type": "code",
   "execution_count": null,
   "id": "e4fdc1d9",
   "metadata": {},
   "outputs": [],
   "source": [
    "Y = dataset['restatement'].values\n",
    "Y"
   ]
  },
  {
   "cell_type": "markdown",
   "id": "dcc686ce",
   "metadata": {},
   "source": [
    "### Independent variables\n",
    "\n",
    "Independent variables: roa, size and mtb"
   ]
  },
  {
   "cell_type": "code",
   "execution_count": null,
   "id": "51b6e7be",
   "metadata": {},
   "outputs": [],
   "source": [
    "# independent variablesvalues gives numpy array (datatype that sklearn expects)\n",
    "X = dataset[['roa', 'size', 'mtb']].values\n",
    "X"
   ]
  },
  {
   "cell_type": "markdown",
   "id": "91eff24a",
   "metadata": {},
   "source": [
    "### Sklearn: test and train sample and model training"
   ]
  },
  {
   "cell_type": "code",
   "execution_count": null,
   "id": "dabec642",
   "metadata": {},
   "outputs": [],
   "source": [
    "from sklearn.model_selection import train_test_split\n",
    "# 70% of the obs used for training, 30% for testing\n",
    "X_train, X_test, Y_train, Y_test = train_test_split(X, Y, test_size = 0.3)"
   ]
  },
  {
   "cell_type": "code",
   "execution_count": null,
   "id": "0216b38f",
   "metadata": {},
   "outputs": [],
   "source": [
    "print(\"#obs for training\", len(X_train), \"#obs for testing\", len(X_test) )"
   ]
  },
  {
   "cell_type": "markdown",
   "id": "52f0d12b",
   "metadata": {},
   "source": [
    "## statsmodel OLS and scikit linear regression\n",
    "\n",
    "Just like with OLS, there are two main packages for logistic regression: Statsmodel and Scikit-learn (sklearn). "
   ]
  },
  {
   "cell_type": "markdown",
   "id": "bb77f6da",
   "metadata": {},
   "source": [
    "### Statsmodel"
   ]
  },
  {
   "cell_type": "code",
   "execution_count": null,
   "id": "eeb1a9f3",
   "metadata": {},
   "outputs": [],
   "source": [
    "import statsmodels.api as sm\n",
    "\n",
    "# set up, no constant (default)\n",
    "# note that unlike with OLS there is no 'nice model' to edit (instead, we pass in data)\n",
    "#logit_model=sm.Logit(Y_train,X_train)\n",
    "\n",
    "# set up, with intercept (constant)\n",
    "logit_model=sm.Logit(Y_train, sm.add_constant(X_train) )\n",
    "\n",
    "# train the model\n",
    "result=logit_model.fit()\n",
    "\n",
    "# print summary\n",
    "print(result.summary())"
   ]
  },
  {
   "cell_type": "markdown",
   "id": "1160a420",
   "metadata": {},
   "source": [
    "## sklearn"
   ]
  },
  {
   "cell_type": "code",
   "execution_count": null,
   "id": "661562b3",
   "metadata": {},
   "outputs": [],
   "source": [
    "from sklearn.linear_model import LogisticRegression\n",
    "\n",
    "# new logistic regression object\n",
    "#clf = LogisticRegression()\n",
    "# disable sklearn regularization\n",
    "# see https://stats.stackexchange.com/questions/203740/logistic-regression-scikit-learn-vs-statsmodels\n",
    "clf = LogisticRegression(penalty='none')\n",
    "\n",
    "# run model\n",
    "clf.fit(X_train, Y_train.ravel())"
   ]
  },
  {
   "cell_type": "code",
   "execution_count": null,
   "id": "693981d5",
   "metadata": {},
   "outputs": [],
   "source": [
    "# coefficients\n",
    "print('Intercept', clf.intercept_)\n",
    "print('Coefficients', clf.coef_)"
   ]
  },
  {
   "cell_type": "code",
   "execution_count": null,
   "id": "15edc35d",
   "metadata": {},
   "outputs": [],
   "source": [
    "# fitted values on test sample\n",
    "Y_pred = clf.predict(X_test)\n",
    "Y_pred"
   ]
  },
  {
   "cell_type": "code",
   "execution_count": null,
   "id": "e1174c02",
   "metadata": {},
   "outputs": [],
   "source": [
    "# these are the probabilities for being '0' vs '1' (adds up to 1)\n",
    "# the highest probability is chosen for predict (in this case all 0)\n",
    "y_prob = clf.predict_proba(X_test)\n",
    "y_prob"
   ]
  },
  {
   "cell_type": "code",
   "execution_count": null,
   "id": "ea9b1d4c",
   "metadata": {},
   "outputs": [],
   "source": [
    "from sklearn.metrics import accuracy_score\n",
    "# accuracy compares predicted values (0 or 1) vs actual values (0 or 1)\n",
    "print('Test Accuracy', accuracy_score(Y_test, Y_pred))"
   ]
  },
  {
   "cell_type": "markdown",
   "id": "44a1731d",
   "metadata": {},
   "source": [
    "## Confusion Matrix\n",
    "\n",
    "To get more information on the accuracy of the model, a confusion matrix is used. In the case of binary classification, the confusion matrix shows the numbers of the following:\n",
    "\n",
    "- True negatives in the upper-left position\n",
    "- False negatives in the lower-left position\n",
    "- False positives in the upper-right position\n",
    "- True positives in the lower-right position"
   ]
  },
  {
   "cell_type": "code",
   "execution_count": null,
   "id": "93d5d56b",
   "metadata": {},
   "outputs": [],
   "source": [
    "from sklearn.metrics import confusion_matrix\n",
    "matrix = confusion_matrix(Y_test,Y_pred)"
   ]
  },
  {
   "cell_type": "code",
   "execution_count": null,
   "id": "a5b0f8ae",
   "metadata": {},
   "outputs": [],
   "source": [
    "from sklearn.metrics import ConfusionMatrixDisplay\n",
    "disp = ConfusionMatrixDisplay(confusion_matrix=matrix,display_labels=clf.classes_)\n",
    "disp.plot()\n",
    "plt.show()"
   ]
  },
  {
   "cell_type": "code",
   "execution_count": null,
   "id": "25618d3c",
   "metadata": {},
   "outputs": [],
   "source": []
  }
 ],
 "metadata": {
  "kernelspec": {
   "display_name": "Python 3",
   "language": "python",
   "name": "python3"
  },
  "language_info": {
   "codemirror_mode": {
    "name": "ipython",
    "version": 3
   },
   "file_extension": ".py",
   "mimetype": "text/x-python",
   "name": "python",
   "nbconvert_exporter": "python",
   "pygments_lexer": "ipython3",
   "version": "3.8.8"
  }
 },
 "nbformat": 4,
 "nbformat_minor": 5
}
