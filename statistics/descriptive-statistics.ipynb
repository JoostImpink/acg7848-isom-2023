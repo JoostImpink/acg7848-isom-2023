{
 "cells": [
  {
   "cell_type": "markdown",
   "id": "6ad43354",
   "metadata": {},
   "source": [
    "# Descriptive statistics (and correlations)\n",
    "\n",
    "The main descriptive statistics are: mean, min, 25th, median, 75th, max, standard deviation\n",
    "\n",
    "The main packages that provide these statistics are numpy, pandas, statistics and scipy.stats\n",
    "\n",
    "\n",
    "Scipy stats: See https://docs.scipy.org/doc/scipy/reference/stats.html"
   ]
  },
  {
   "cell_type": "markdown",
   "id": "a9e9bf08",
   "metadata": {},
   "source": [
    "## Descriptive statistics"
   ]
  },
  {
   "cell_type": "code",
   "execution_count": null,
   "id": "f22c2b69",
   "metadata": {},
   "outputs": [],
   "source": [
    "# main packages\n",
    "import numpy as np\n",
    "import pandas as pd\n",
    "import statistics\n",
    "import scipy.stats\n",
    "\n",
    "# for nan\n",
    "import math"
   ]
  },
  {
   "cell_type": "code",
   "execution_count": null,
   "id": "1f7953a8",
   "metadata": {},
   "outputs": [],
   "source": [
    "# Sample dataset\n",
    "df = pd.read_excel(r'..\\datasets\\Compustat-Funda.xlsx',nrows= 1000)"
   ]
  },
  {
   "cell_type": "code",
   "execution_count": null,
   "id": "02ca919a",
   "metadata": {},
   "outputs": [],
   "source": [
    "df.head()"
   ]
  },
  {
   "cell_type": "markdown",
   "id": "8596116e",
   "metadata": {},
   "source": [
    "### pandas"
   ]
  },
  {
   "cell_type": "markdown",
   "id": "d0e1b0b3",
   "metadata": {},
   "source": [
    "First of all, the describe() method gives various descriptive statistics:"
   ]
  },
  {
   "cell_type": "code",
   "execution_count": null,
   "id": "9cc1f3f0",
   "metadata": {},
   "outputs": [],
   "source": [
    "# get descriptive statistics for variable sales (sale)\n",
    "df['sale'].describe()"
   ]
  },
  {
   "cell_type": "markdown",
   "id": "df529184",
   "metadata": {},
   "source": [
    "### Using numpy\n",
    "\n",
    "average: `mean`\n",
    "median: `median`\n",
    "standard deviation: `std`, requires an extra argument for degrees of freedom (`ddof`)\n",
    "percentiles: `percentile`, with argument to specify the percentile (25, 75, etc)\n",
    "    "
   ]
  },
  {
   "cell_type": "code",
   "execution_count": null,
   "id": "f240828f",
   "metadata": {},
   "outputs": [],
   "source": [
    "print ('mean:', np.mean( df['sale']  ) )\n",
    "print ('median:', np.median( df['sale']  ) )\n",
    "print ('standard deviation:', np.std( df['sale'] , ddof=1 ) ) #ddof divided by n-1 instead of n\n",
    "print ('25th percentile:', np.percentile(df['sale'], 25))    \n",
    "print ('75th percentile:', np.percentile(df['sale'], 75))    "
   ]
  },
  {
   "cell_type": "markdown",
   "id": "09c11150",
   "metadata": {},
   "source": [
    "## Correlations\n",
    "\n",
    "There are 2 main types of correlations: \n",
    "- Pearson\n",
    "- Spearman (based on ranking)\n",
    "\n",
    "Since the correlation between x and y is the same as y and x, it makes sense to have both correlations in a matrix. One half of the matrix Pearson, the other half Spearman.\n",
    "\n",
    "### Pearson correlation\n",
    "\n",
    "How it is calculated: https://www.statisticshowto.com/probability-and-statistics/correlation-coefficient-formula/"
   ]
  },
  {
   "cell_type": "code",
   "execution_count": null,
   "id": "29aa101f",
   "metadata": {},
   "outputs": [],
   "source": [
    "from IPython.display import Image\n",
    "Image(\"images/pearson-correlation.jpg\")"
   ]
  },
  {
   "cell_type": "markdown",
   "id": "f82504bb",
   "metadata": {},
   "source": [
    "From Wikipedia, https://en.wikipedia.org/wiki/Pearson_correlation_coefficient"
   ]
  },
  {
   "cell_type": "code",
   "execution_count": null,
   "id": "474bea9f",
   "metadata": {},
   "outputs": [],
   "source": [
    "# calculate 'by hand' \n",
    "# this code assumes both series have the same length (and no missing values)\n",
    "s = df['sale']\n",
    "a = df['at']\n",
    "n = len(s)\n",
    "s_mean, a_mean = np.mean( s ), np.mean (a )\n",
    "var_s = sum((item - s_mean)**2 for item in s) / ( n - 1)\n",
    "var_a = sum((item - a_mean)**2 for item in a) / ( n - 1)\n",
    "std_s, std_a = var_s ** 0.5, var_a ** 0.5\n",
    "cov_sa = (sum((s[k] - s_mean) * (a[k] - a_mean) for k in range(n)) / (n - 1))\n",
    "r = cov_sa / (std_s * std_a)\n",
    "r"
   ]
  },
  {
   "cell_type": "markdown",
   "id": "e764efc3",
   "metadata": {},
   "source": [
    "### Pandas corr\n",
    "\n",
    "Pandas' `corr` can be used to get the correlation table. Parameter `method` is used to specify the type ('pearson' vs 'spearman').\n",
    "\n",
    "It does however not output the p-values.\n",
    "\n",
    "See: https://pandas.pydata.org/docs/reference/api/pandas.DataFrame.corr.html\n",
    "    \n"
   ]
  },
  {
   "cell_type": "code",
   "execution_count": null,
   "id": "b38850a0",
   "metadata": {},
   "outputs": [],
   "source": [
    "corrM = df.corr(method='pearson')\n",
    "corrM"
   ]
  },
  {
   "cell_type": "markdown",
   "id": "88cc1e89",
   "metadata": {},
   "source": [
    "### Using Scipy.stats"
   ]
  },
  {
   "cell_type": "code",
   "execution_count": null,
   "id": "cbb99330",
   "metadata": {},
   "outputs": [],
   "source": [
    "# using scipy\n",
    "r, p = scipy.stats.pearsonr(s, a)\n",
    "print('correlation:', r, 'p-value:', p)"
   ]
  },
  {
   "cell_type": "markdown",
   "id": "afe15f4a",
   "metadata": {},
   "source": [
    "### Spearman rank correlation\n",
    "\n",
    "For an explanation on how it is calculated, see: https://www.statisticshowto.com/probability-and-statistics/correlation-coefficient-formula/spearman-rank-correlation-definition-calculate/"
   ]
  },
  {
   "cell_type": "code",
   "execution_count": null,
   "id": "8638bbe7",
   "metadata": {},
   "outputs": [],
   "source": [
    "# Spearman\n",
    "r, p = scipy.stats.spearmanr(s, a)\n",
    "print('correlation:', r, 'p-value:', p)"
   ]
  },
  {
   "cell_type": "code",
   "execution_count": null,
   "id": "057e8cf6",
   "metadata": {},
   "outputs": [],
   "source": []
  }
 ],
 "metadata": {
  "kernelspec": {
   "display_name": "Python 3",
   "language": "python",
   "name": "python3"
  },
  "language_info": {
   "codemirror_mode": {
    "name": "ipython",
    "version": 3
   },
   "file_extension": ".py",
   "mimetype": "text/x-python",
   "name": "python",
   "nbconvert_exporter": "python",
   "pygments_lexer": "ipython3",
   "version": "3.8.8"
  }
 },
 "nbformat": 4,
 "nbformat_minor": 5
}
