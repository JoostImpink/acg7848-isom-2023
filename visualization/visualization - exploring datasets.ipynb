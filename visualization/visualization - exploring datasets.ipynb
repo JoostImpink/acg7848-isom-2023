{
 "cells": [
  {
   "cell_type": "markdown",
   "metadata": {},
   "source": [
    "# Data Visualization with Seaborn\n",
    "\n",
    "Seaborn plotting functions operate on dataframes and arrays containing whole datasets and internally perform the necessary semantic mapping and statistical aggregation to produce informative plots. \n",
    "\n",
    "Seaborn uses matplotlib to draw its plots. For interactive work, it’s recommended to use a Jupyter/IPython interface in matplotlib mode, or else you’ll have to call matplotlib.pyplot.show() when you want to see the plot. It automates the creation of multiple figures but sometimes leads to OOM (out of memory) issues.\n",
    "\n",
    "## Different categories of plot in Seaborn\n",
    "\n",
    "Plots are basically used for visualizing the relationship between variables. Those variables can be either be completely numerical or a category like a group, class or division. Seaborn divides plot into the below categories –\n",
    "\n",
    "- __Relational plots__: This plot is used to understand the relation between two variables.\n",
    "- __Categorical plots__: This plot deals with categorical variables and how they can be visualized.\n",
    "- __Distribution plots__: This plot is used for examining univariate and bivariate distributions\n",
    "- __Regression plots__: The regression plots in seaborn are primarily intended to add a visual guide that helps to emphasize patterns in a dataset during exploratory data analyses.\n",
    "- __Matrix plots__: A matrix plot is an array of scatterplots.\n",
    "- __Multi-plot grids__: It is an useful approach is to draw multiple instances of the same plot on different subsets of the dataset.\n",
    "\n",
    "__Reference Links__: \n",
    "- https://seaborn.pydata.org/tutorial/introduction.html\n",
    "- https://medium.com/analytics-vidhya/introduction-to-matplotlib-and-seaborn-e2dd04bfc821#:~:text=Matplotlib%3A%20Matplotlib%20is%20mainly%20deployed,has%20easily%20interesting%20default%20themes."
   ]
  },
  {
   "cell_type": "code",
   "execution_count": null,
   "metadata": {},
   "outputs": [],
   "source": [
    "import seaborn as sb\n",
    "from matplotlib import pyplot as plt\n",
    "df = sb.load_dataset('tips')\n",
    "df.head(10)"
   ]
  },
  {
   "cell_type": "markdown",
   "metadata": {},
   "source": [
    "## Relational Plots\n",
    "\n",
    "Relational plots are used for visualizing the statistical relationship between the data points. They plot two-dimensional graphics that can be enhanced by mapping up to three additional variables using the semantics of hue, size, and style.\n",
    "\n",
    "### Rel Plot\n",
    "This function provides us the access to some other different axes-level functions which shows the relationships between two variables with semantic mappings of subsets. The plot below shows the relationship between five variables in the tips dataset using a single call to the seaborn function relplot(). Hue, Style and size are used for grouping variable that will produce elements with different colors."
   ]
  },
  {
   "cell_type": "code",
   "execution_count": null,
   "metadata": {},
   "outputs": [],
   "source": [
    "sb.relplot(data=df, x=\"total_bill\", y=\"tip\", col=\"time\", hue=\"smoker\", style=\"smoker\", size=\"size\")\n",
    "plt.show()"
   ]
  },
  {
   "cell_type": "markdown",
   "metadata": {},
   "source": [
    "Both the plots discussed below can also be drawn with the help of kind parameter in relplot(). If we pass the parameter kind = “line”, it gives us lineplot(). Though both these plots can be drawn using relplot(), seaborn also have separate functions for visualizing these kind of plots. These functions do provides some other functionalities too, compared to relplot().\n",
    "\n",
    "### Scatter Plot\n",
    "\n",
    "The scatter plot is a mainstay of statistical visualization. It depicts the joint distribution of two variables using a cloud of points, where each point represents an observation in the dataset. This depiction allows the eye to infer a substantial amount of information about whether there is any meaningful relationship between them."
   ]
  },
  {
   "cell_type": "code",
   "execution_count": null,
   "metadata": {},
   "outputs": [],
   "source": [
    "sb.scatterplot(x =\"total_bill\",y =\"tip\",style =\"time\", data = df)\n",
    "plt.show()"
   ]
  },
  {
   "cell_type": "markdown",
   "metadata": {},
   "source": [
    "### Line Plot\n",
    "\n",
    "Scatter plots are highly effective, but there is no universally optimal type of visualization. For certain datasets, you may want to consider changes as a function of time in one variable, or as a similarly continuous variable. In this case, drawing a line-plot is a better option."
   ]
  },
  {
   "cell_type": "code",
   "execution_count": null,
   "metadata": {},
   "outputs": [],
   "source": [
    "fmri = sb.load_dataset(\"fmri\")\n",
    "sb.lineplot(x =\"timepoint\", y =\"signal\", hue =\"region\", style =\"event\", data = fmri)\n",
    "plt.show()"
   ]
  },
  {
   "cell_type": "markdown",
   "metadata": {},
   "source": [
    "## Categorical Plots\n",
    "\n",
    "If one of the main variables is “categorical” (divided into discrete groups) it may be helpful to use a more specialized approach to visualization. There are a number of axes-level functions for plotting categorical data in different ways and a figure-level interface, catplot(), that gives unified higher-level access to them. Some examples of categorical plots are discussed below.\n",
    "\n",
    "### Bar Plot\n",
    "\n",
    "A barplot is basically used to aggregate the categorical data according to some methods and by default its the mean. It creates a plot taking a mean per categorical column but this statistical function for estimation can be changed by modifying estimator within each categorical bin. The palette is used to set the color of the plot\n",
    "\n",
    " The below plot shows that the average total_bill for the male is more as compared to the female"
   ]
  },
  {
   "cell_type": "code",
   "execution_count": null,
   "metadata": {},
   "outputs": [],
   "source": [
    "# change the estimator from mean to standard deviation\n",
    "import numpy as np\n",
    "sb.barplot(x ='sex', y ='total_bill', data = df, palette ='plasma', estimator = np.std)\n",
    "plt.show()"
   ]
  },
  {
   "cell_type": "markdown",
   "metadata": {},
   "source": [
    "### Count Plot\n",
    "\n",
    "A countplot basically counts the categories and returns a count of their occurrences. As it only returns the count based off a categorical column, we need to specify only the x parameter. It is a special case of bar plot when you want to show the number of observations in each category rather than computing a statistic for a second variable."
   ]
  },
  {
   "cell_type": "code",
   "execution_count": null,
   "metadata": {},
   "outputs": [],
   "source": [
    "titanic = sb.load_dataset(\"titanic\")\n",
    "sb.countplot(data=titanic, x=\"deck\", palette=\"ch:.25\")\n",
    "plt.show()"
   ]
  },
  {
   "cell_type": "markdown",
   "metadata": {},
   "source": [
    "### Box Plot\n",
    "\n",
    "It is kind of plot shows the three quartile values of the distribution along with extreme values. The “whiskers” extend to points that lie within 1.5 IQRs of the lower and upper quartile, and then observations that fall outside this range are displayed independently. This means that each value in the boxplot corresponds to an actual observation in the data.\n",
    "\n",
    "By looking at the plot  below we can say that the people who do not smoke had a higher bill on Friday as compared to the people who smoked."
   ]
  },
  {
   "cell_type": "code",
   "execution_count": null,
   "metadata": {},
   "outputs": [],
   "source": [
    "sb.boxplot(x ='day', y ='total_bill', data = df, hue ='smoker')\n",
    "plt.show()"
   ]
  },
  {
   "cell_type": "markdown",
   "metadata": {},
   "source": [
    "### Boxen Plot\n",
    "\n",
    "It draws a plot that is similar to a box plot but optimized for showing more information about the shape of the distribution. It is best suited for larger datasets"
   ]
  },
  {
   "cell_type": "code",
   "execution_count": null,
   "metadata": {},
   "outputs": [],
   "source": [
    "diamonds = sb.load_dataset(\"diamonds\")\n",
    "sb.boxenplot(data=diamonds.sort_values(\"color\"),x=\"color\", y=\"price\")\n",
    "plt.show()"
   ]
  },
  {
   "cell_type": "markdown",
   "metadata": {},
   "source": [
    "### Violin Plot\n",
    "\n",
    "It is similar to the boxplot except that it provides a higher, more advanced visualization and uses the kernel density estimation to give a better description about the data distribution. Additionally, the quartile and whisker values from the boxplot are shown inside the violin. The downside is that, because the violinplot uses a KDE, there are some other parameters that may need tweaking, adding some complexity relative to the straightforward boxplot."
   ]
  },
  {
   "cell_type": "code",
   "execution_count": null,
   "metadata": {},
   "outputs": [],
   "source": [
    "sb.violinplot(x ='day', y ='total_bill', data = df, hue ='sex')\n",
    "plt.show()"
   ]
  },
  {
   "cell_type": "markdown",
   "metadata": {},
   "source": [
    "It’s also possible to “split” the violins when the hue parameter has only two levels, which can allow for a more efficient use of space."
   ]
  },
  {
   "cell_type": "code",
   "execution_count": null,
   "metadata": {},
   "outputs": [],
   "source": [
    "sb.violinplot(x ='day', y ='total_bill', data = df, hue ='sex', split = True)\n",
    "plt.show()"
   ]
  },
  {
   "cell_type": "markdown",
   "metadata": {},
   "source": [
    "### Strip Plot\n",
    "\n",
    "It basically creates a scatter plot based on the category. One problem with strip plot is that you can’t really tell which points are stacked on top of each other and hence we use the jitter parameter to add some random noise. The jitter parameter is used to add an amount of jitter (only along the categorical axis) which can be useful when you have many points and they overlap, so that it is easier to see the distribution. hue is used to provide an addition categorical separation"
   ]
  },
  {
   "cell_type": "code",
   "execution_count": null,
   "metadata": {},
   "outputs": [],
   "source": [
    "sb.stripplot(x ='day', y ='total_bill', data = df,jitter = True, hue ='smoker', dodge = True)\n",
    "plt.show()"
   ]
  },
  {
   "cell_type": "markdown",
   "metadata": {},
   "source": [
    "### Swarm Plot\n",
    "\n",
    "It is very similar to the stripplot except the fact that the points are adjusted so that they do not overlap.Some people also like combining the idea of a violin plot and a stripplot to form this plot. One drawback to using swarmplot is that sometimes they dont scale well to really large numbers and takes a lot of computation to arrange them. So in case we want to visualize a swarmplot properly we can plot it on top of a violinplot."
   ]
  },
  {
   "cell_type": "code",
   "execution_count": null,
   "metadata": {},
   "outputs": [],
   "source": [
    "sb.swarmplot(x ='day', y ='total_bill', data = df)\n",
    "plt.show()"
   ]
  },
  {
   "cell_type": "code",
   "execution_count": null,
   "metadata": {},
   "outputs": [],
   "source": [
    "sb.violinplot(x ='day', y ='total_bill', data = df)\n",
    "sb.swarmplot(x ='day', y ='total_bill', data = df, color ='black')\n",
    "plt.show()"
   ]
  },
  {
   "cell_type": "markdown",
   "metadata": {},
   "source": [
    "### Point Plot\n",
    "\n",
    "This function also encodes the value of the estimate with height on the other axis, but rather than showing a full bar, it plots the point estimate and confidence interval. Additionally, it connects points from the same hue category. This makes it easy to see how the main relationship is changing as a function of the hue semantic, because your eyes are quite good at picking up on differences of slopes."
   ]
  },
  {
   "cell_type": "code",
   "execution_count": null,
   "metadata": {},
   "outputs": [],
   "source": [
    "titanic = sb.load_dataset(\"titanic\")\n",
    "titanic.head()"
   ]
  },
  {
   "cell_type": "code",
   "execution_count": null,
   "metadata": {},
   "outputs": [],
   "source": [
    "sb.pointplot(data=titanic, x=\"sex\", y=\"survived\", hue=\"class\")\n",
    "plt.show()"
   ]
  },
  {
   "cell_type": "markdown",
   "metadata": {},
   "source": [
    "## Distribution Plots\n",
    "\n",
    "Distribution plots in seaborn are used for examining univariate and bivariate distributions.There are several different approaches to visualizing a distribution, and each has its relative advantages and drawbacks. It is important to understand these factors so that you can choose the best approach for your particular aim.\n",
    "\n",
    "### Joint Plot\n",
    "\n",
    "It plots bivariate and univariate graphs of two variables. It represents the bivariate distribution using scatterplot() and the marginal distributions using histplot(). kind is a variable that helps us play around with the fact as to how do you want to visualise the data.It helps to see whats going inside the joinplot. The default is scatter and can be hex, reg(regression) or kde."
   ]
  },
  {
   "cell_type": "code",
   "execution_count": null,
   "metadata": {},
   "outputs": [],
   "source": [
    "sb.jointplot(x=\"total_bill\", y=\"tip\", data=df, kind=\"reg\")\n",
    "plt.show()"
   ]
  },
  {
   "cell_type": "markdown",
   "metadata": {},
   "source": [
    "### Pair Plot\n",
    "\n",
    "The function offers a similar blend of joint and marginal distributions. Rather than focusing on a single relationship, however, pairplot() uses a “small-multiple” approach to visualize the univariate distribution of all variables in a dataset along with all of their pairwise relationships.With kind=\"reg\" combines regplot() and PairGrid to show the linear relationship between variables in a dataset. PairGrid is used to show multiple relationships between different pairings of the variables in a dataset."
   ]
  },
  {
   "cell_type": "code",
   "execution_count": null,
   "metadata": {},
   "outputs": [],
   "source": [
    "sb.pairplot(df, x_vars=[\"total_bill\", \"size\"], y_vars=[\"tip\"], hue=\"smoker\", height=5, aspect=.8, kind=\"reg\");\n",
    "plt.show()"
   ]
  },
  {
   "cell_type": "markdown",
   "metadata": {},
   "source": [
    "### Dis Plot\n",
    "\n",
    "It is used basically for univariant set of observations and visualizes it through a histogram i.e. only one observation and hence we choose one particular column of the dataset. KDE stands for Kernel Density Estimation and that is another kind of the plot in seaborn. bins is used to set the number of bins you want in your plot and it actually depends on your dataset.\n",
    "\n",
    "By looking at the below plot we can say that most of the total bill given lies between 10 and 20."
   ]
  },
  {
   "cell_type": "code",
   "execution_count": null,
   "metadata": {},
   "outputs": [],
   "source": [
    "sb.displot(df['total_bill'], kde = False, color ='red', bins = 30)\n",
    "plt.show()"
   ]
  },
  {
   "cell_type": "markdown",
   "metadata": {},
   "source": [
    "## Regression Plots\n",
    "\n",
    "The regression plots in seaborn are primarily intended to add a visual guide that helps to emphasize patterns in a dataset during exploratory data analyses. Regression plots as the name suggests creates a regression line between 2 parameters and helps to visualize their linear relationships.\n",
    "\n",
    "The functions in Seaborn to find the linear regression relationship are __regplot()__ and __lmplot()__. These functions draw similar plots, but regplot() is an axes-level function, and lmplot() is a figure-level function. Only lmplot() has hue as a parameter. The below example shows its use.\n",
    "\n",
    "### Reg Plot"
   ]
  },
  {
   "cell_type": "code",
   "execution_count": null,
   "metadata": {},
   "outputs": [],
   "source": [
    "sb.regplot(x = \"total_bill\", y = \"tip\", data = df)\n",
    "plt.show()"
   ]
  },
  {
   "cell_type": "markdown",
   "metadata": {},
   "source": [
    "### Lm Plot\n",
    "\n",
    "lmplot() can be understood as a function that basically creates a linear model plot. lmplot() makes a very simple linear regression plot.It creates a scatter plot with a linear fit on top of it."
   ]
  },
  {
   "cell_type": "code",
   "execution_count": null,
   "metadata": {},
   "outputs": [],
   "source": [
    "sb.lmplot(x=\"total_bill\", y=\"tip\", hue=\"smoker\",col=\"time\", row=\"sex\", data=df, height=3);\n",
    "plt.show()"
   ]
  },
  {
   "cell_type": "markdown",
   "metadata": {},
   "source": [
    "## Matrix Plots\n",
    "\n",
    "There are two types of Matrix Plots Heat Maps and Cluster Maps. To plot matrix, the index name and the column name must match in some way so that the data that we fill inside the cells are relevant. \n",
    "\n",
    "### Heat Maps\n",
    "\n",
    "The correlated matrix can be shown using heat maps."
   ]
  },
  {
   "cell_type": "code",
   "execution_count": null,
   "metadata": {},
   "outputs": [],
   "source": [
    "# correlation between the different parameters\n",
    "tc = df.corr()\n",
    " \n",
    "# plot a heatmap of the correlated data\n",
    "sb.heatmap(tc)\n",
    "plt.show()"
   ]
  },
  {
   "cell_type": "markdown",
   "metadata": {},
   "source": [
    "### Cluster Maps\n",
    "\n",
    "Cluster maps use hierarchical clustering. It performs the clustering based on the similarity of the rows and columns. "
   ]
  },
  {
   "cell_type": "code",
   "execution_count": null,
   "metadata": {},
   "outputs": [],
   "source": [
    "import pandas as pd\n",
    "\n",
    "# load the flights dataset\n",
    "fd = sb.load_dataset('flights')\n",
    " \n",
    "# make a dataframe of the data\n",
    "df = pd.pivot_table(values ='passengers', index ='month',columns ='year', data = fd)\n",
    " \n",
    "# make a clustermap from the dataset\n",
    "sb.clustermap(df, cmap ='plasma')\n",
    "plt.show()"
   ]
  },
  {
   "cell_type": "markdown",
   "metadata": {},
   "source": [
    "## Multi plot grids\n",
    "\n",
    "When exploring multi-dimensional data, a useful approach is to draw multiple instances of the same plot on different subsets of your dataset. It allows a viewer to quickly extract a large amount of information about a complex dataset. Matplotlib offers good support for making figures with multiple axes; seaborn builds on top of this to directly link the structure of the plot to the structure of your dataset.\n",
    "\n",
    "### FacetGrid\n",
    "\n",
    "The FacetGrid class is useful when you want to visualize the distribution of a variable or the relationship between multiple variables separately within subsets of your dataset. Each of relplot(), displot(), catplot(), and lmplot() use this object internally, and they return the object when they are finished so that it can be used for further tweaking."
   ]
  },
  {
   "cell_type": "code",
   "execution_count": null,
   "metadata": {
    "scrolled": true
   },
   "outputs": [],
   "source": [
    "exercise = sb.load_dataset(\"exercise\")\n",
    "\n",
    "# Form a facetgrid using columns with a hue\n",
    "sea = sb.FacetGrid(exercise, col = \"time\", hue = \"kind\")\n",
    "   \n",
    "# map the above form facetgrid with some attributes  \n",
    "sea.map(sb.scatterplot, \"pulse\", \"time\", alpha = .8)\n",
    " \n",
    "# adding legend\n",
    "sea.add_legend()\n",
    "plt.show()"
   ]
  },
  {
   "cell_type": "markdown",
   "metadata": {},
   "source": [
    "### PairGrid\n",
    "\n",
    "PairGrid also allows you to quickly draw a grid of small subplots using the same plot type to visualize data in each. In a PairGrid, each row and column is assigned to a different variable, so the resulting plot shows each pairwise relationship in the dataset. This style of plot is sometimes called a “scatterplot matrix”, as this is the most common way to show each relationship, but PairGrid is not limited to scatterplots."
   ]
  },
  {
   "cell_type": "code",
   "execution_count": null,
   "metadata": {},
   "outputs": [],
   "source": [
    "iris = sb.load_dataset(\"iris\")\n",
    "g = sb.PairGrid(iris, vars=[\"sepal_length\", \"sepal_width\"], hue=\"species\")\n",
    "g.map(sb.scatterplot)\n",
    "plt.show()"
   ]
  },
  {
   "cell_type": "markdown",
   "metadata": {},
   "source": [
    "The differences between a FacetGrid and a PairGrid. In the former, each facet shows the same relationship conditioned on different levels of other variables. In the latter, each plot shows a different relationship. Using PairGrid can give you a very quick, very high-level summary of interesting relationships in your dataset."
   ]
  }
 ],
 "metadata": {
  "kernelspec": {
   "display_name": "Python 3",
   "language": "python",
   "name": "python3"
  },
  "language_info": {
   "codemirror_mode": {
    "name": "ipython",
    "version": 3
   },
   "file_extension": ".py",
   "mimetype": "text/x-python",
   "name": "python",
   "nbconvert_exporter": "python",
   "pygments_lexer": "ipython3",
   "version": "3.8.8"
  },
  "vscode": {
   "interpreter": {
    "hash": "cd78fef2128015050713e82ca51c6520b11aee7c9ee8df750520bbbc7384cbaa"
   }
  }
 },
 "nbformat": 4,
 "nbformat_minor": 2
}
